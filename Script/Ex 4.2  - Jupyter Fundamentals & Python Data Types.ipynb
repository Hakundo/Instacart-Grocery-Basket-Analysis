{
 "cells": [
  {
   "cell_type": "markdown",
   "id": "fc87741a",
   "metadata": {},
   "source": [
    "# 4.2: Jupyter Fundamentals & Python Data Types\n",
    "\n",
    "\n",
    "## Table of content:\n",
    "\n",
    "### Task 7 -  Code 3 different ways of reaching a result of 100 by adding or subtracting numeric variables\n",
    "\n",
    "\n",
    "### Task 8 - Code 2 floating-point variables and divide them by each other\n",
    "\n",
    "### Task 9 - Construct a short word made of separate strings (you’ll need to concatenate some strings!).\n",
    "\n",
    "### Task 10 - Construct 2 short sentences made of separate strings\n",
    "\n",
    "### Bonus Task - At the bottom of your file, include a command that makes a string appear 100 times.\n",
    "\n"
   ]
  },
  {
   "cell_type": "markdown",
   "id": "6be9889c",
   "metadata": {},
   "source": [
    "# Importing Libraries"
   ]
  },
  {
   "cell_type": "code",
   "execution_count": 6,
   "id": "e1f9c513",
   "metadata": {},
   "outputs": [],
   "source": [
    "# Liraries\n",
    "\n",
    "import pandas as pd\n",
    "import numpy as np\n",
    "import os"
   ]
  },
  {
   "cell_type": "markdown",
   "id": "5468c12b",
   "metadata": {},
   "source": [
    "## Python Data Types"
   ]
  },
  {
   "cell_type": "markdown",
   "id": "8ea1b09f",
   "metadata": {},
   "source": [
    "### Task 7: \n",
    "\n",
    "#### Code 3 different ways of reaching a result of 100 by adding or subtracting numeric variables."
   ]
  },
  {
   "cell_type": "code",
   "execution_count": 7,
   "id": "ae3f85d0",
   "metadata": {},
   "outputs": [
    {
     "data": {
      "text/plain": [
       "100"
      ]
     },
     "execution_count": 7,
     "metadata": {},
     "output_type": "execute_result"
    }
   ],
   "source": [
    "10 * 10"
   ]
  },
  {
   "cell_type": "code",
   "execution_count": 8,
   "id": "3f15d9fa",
   "metadata": {},
   "outputs": [],
   "source": [
    "a = 20\n",
    "b = 5"
   ]
  },
  {
   "cell_type": "code",
   "execution_count": 9,
   "id": "7ad9603d",
   "metadata": {},
   "outputs": [
    {
     "data": {
      "text/plain": [
       "100"
      ]
     },
     "execution_count": 9,
     "metadata": {},
     "output_type": "execute_result"
    }
   ],
   "source": [
    "a * b"
   ]
  },
  {
   "cell_type": "code",
   "execution_count": 10,
   "id": "46f66372",
   "metadata": {},
   "outputs": [
    {
     "data": {
      "text/plain": [
       "100"
      ]
     },
     "execution_count": 10,
     "metadata": {},
     "output_type": "execute_result"
    }
   ],
   "source": [
    "20 * b"
   ]
  },
  {
   "cell_type": "markdown",
   "id": "47456bf8",
   "metadata": {},
   "source": [
    "### Task 8: \n",
    "\n",
    "#### Code 2 floating-point variables and divide them by each other"
   ]
  },
  {
   "cell_type": "code",
   "execution_count": 16,
   "id": "7f494979",
   "metadata": {},
   "outputs": [],
   "source": [
    "c = 8.4"
   ]
  },
  {
   "cell_type": "code",
   "execution_count": 17,
   "id": "7cb5377d",
   "metadata": {},
   "outputs": [],
   "source": [
    "d = 2.4"
   ]
  },
  {
   "cell_type": "code",
   "execution_count": 18,
   "id": "af03d9b1",
   "metadata": {},
   "outputs": [
    {
     "data": {
      "text/plain": [
       "3.5000000000000004"
      ]
     },
     "execution_count": 18,
     "metadata": {},
     "output_type": "execute_result"
    }
   ],
   "source": [
    "c/d"
   ]
  },
  {
   "cell_type": "code",
   "execution_count": 19,
   "id": "9384757d",
   "metadata": {},
   "outputs": [
    {
     "data": {
      "text/plain": [
       "0.2857142857142857"
      ]
     },
     "execution_count": 19,
     "metadata": {},
     "output_type": "execute_result"
    }
   ],
   "source": [
    "d/c"
   ]
  },
  {
   "cell_type": "markdown",
   "id": "6744b5e0",
   "metadata": {},
   "source": [
    "### Task 9: \n",
    "\n",
    "#### Construct a short word made of separate strings (you’ll need to concatenate some strings!)."
   ]
  },
  {
   "cell_type": "code",
   "execution_count": 25,
   "id": "a69fd277",
   "metadata": {},
   "outputs": [],
   "source": [
    "S1 = \"Red \""
   ]
  },
  {
   "cell_type": "code",
   "execution_count": 26,
   "id": "79a089c6",
   "metadata": {},
   "outputs": [],
   "source": [
    "S2 = \"car\""
   ]
  },
  {
   "cell_type": "code",
   "execution_count": 27,
   "id": "1f0111de",
   "metadata": {},
   "outputs": [],
   "source": [
    "short_word = S1 + S2"
   ]
  },
  {
   "cell_type": "code",
   "execution_count": 28,
   "id": "e4f2a8bb",
   "metadata": {},
   "outputs": [
    {
     "name": "stdout",
     "output_type": "stream",
     "text": [
      "Red car\n"
     ]
    }
   ],
   "source": [
    "print(short_word)"
   ]
  },
  {
   "cell_type": "markdown",
   "id": "04c109c7",
   "metadata": {},
   "source": [
    "### Task 10: \n",
    "\n",
    "#### Construct 2 short sentences made of separate strings"
   ]
  },
  {
   "cell_type": "code",
   "execution_count": 29,
   "id": "0dd3adf2",
   "metadata": {},
   "outputs": [],
   "source": [
    "S3 = \"My name is Facundo\""
   ]
  },
  {
   "cell_type": "code",
   "execution_count": 30,
   "id": "2c96bada",
   "metadata": {},
   "outputs": [],
   "source": [
    "S4 = \"and I am 38 years old\""
   ]
  },
  {
   "cell_type": "code",
   "execution_count": 31,
   "id": "a08f6770",
   "metadata": {},
   "outputs": [],
   "source": [
    "S5 = \"I start learning \""
   ]
  },
  {
   "cell_type": "code",
   "execution_count": 32,
   "id": "c3fc7349",
   "metadata": {},
   "outputs": [],
   "source": [
    "S6 = \"how to use Python\""
   ]
  },
  {
   "cell_type": "code",
   "execution_count": 33,
   "id": "928a7c67",
   "metadata": {},
   "outputs": [],
   "source": [
    "sentence_1 = S3 + S4\n",
    "sentence_2 = S5 + S6"
   ]
  },
  {
   "cell_type": "code",
   "execution_count": 34,
   "id": "7006b5f2",
   "metadata": {},
   "outputs": [
    {
     "name": "stdout",
     "output_type": "stream",
     "text": [
      "My name is Facundoand I am 38 years old\n",
      "I start learning how to use Python\n"
     ]
    }
   ],
   "source": [
    "print(sentence_1)\n",
    "print(sentence_2)"
   ]
  },
  {
   "cell_type": "markdown",
   "id": "ac93c6b2",
   "metadata": {},
   "source": [
    "### Bonus Task:  \n",
    "\n",
    "#### Include a command that makes a string appear 100 times"
   ]
  },
  {
   "cell_type": "code",
   "execution_count": 35,
   "id": "459946b0",
   "metadata": {},
   "outputs": [
    {
     "data": {
      "text/plain": [
       "'carcarcarcarcarcarcarcarcarcarcarcarcarcarcarcarcarcarcarcarcarcarcarcarcarcarcarcarcarcarcarcarcarcarcarcarcarcarcarcarcarcarcarcarcarcarcarcarcarcarcarcarcarcarcarcarcarcarcarcarcarcarcarcarcarcarcarcarcarcarcarcarcarcarcarcarcarcarcarcarcarcarcarcarcarcarcarcarcarcarcarcarcarcarcarcarcarcarcarcar'"
      ]
     },
     "execution_count": 35,
     "metadata": {},
     "output_type": "execute_result"
    }
   ],
   "source": [
    "S2 * 100"
   ]
  },
  {
   "cell_type": "code",
   "execution_count": null,
   "id": "0f05e410",
   "metadata": {},
   "outputs": [],
   "source": []
  }
 ],
 "metadata": {
  "kernelspec": {
   "display_name": "Python 3 (ipykernel)",
   "language": "python",
   "name": "python3"
  },
  "language_info": {
   "codemirror_mode": {
    "name": "ipython",
    "version": 3
   },
   "file_extension": ".py",
   "mimetype": "text/x-python",
   "name": "python",
   "nbconvert_exporter": "python",
   "pygments_lexer": "ipython3",
   "version": "3.9.13"
  }
 },
 "nbformat": 4,
 "nbformat_minor": 5
}
