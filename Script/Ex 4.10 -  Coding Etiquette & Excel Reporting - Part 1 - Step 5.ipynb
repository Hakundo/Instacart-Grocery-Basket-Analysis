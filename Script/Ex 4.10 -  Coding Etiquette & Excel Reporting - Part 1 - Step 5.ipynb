{
 "cells": [
  {
   "cell_type": "markdown",
   "id": "ed8821dd",
   "metadata": {},
   "source": [
    "#  4.10: Coding Etiquette & Excel Reporting - Part 1\n",
    "\n",
    "## Table of content:\n",
    "\n",
    "### Task 5 -  Create a profiling variable based on age, income, certain goods in the “department_id” column, and number of dependents\n",
    "\n",
    "### 1) Create sample data\n",
    "### 2) Create Age Group\n",
    "### 3) Create Income Group\n",
    "### 4) Create Department Group\n",
    "### 5) Create Parents Group\n",
    "### 6) Create Customer Profile\n",
    "### 7) Create Day Shopper Group\n",
    "\n",
    "###  - Export data"
   ]
  },
  {
   "cell_type": "markdown",
   "id": "ca87fd11",
   "metadata": {},
   "source": [
    "### Import Libraries"
   ]
  },
  {
   "cell_type": "code",
   "execution_count": 1,
   "id": "4326a5af",
   "metadata": {},
   "outputs": [],
   "source": [
    "import pandas as pd\n",
    "import numpy as np\n",
    "import os\n",
    "import matplotlib.pyplot as plt\n",
    "import seaborn as sns\n",
    "import scipy"
   ]
  },
  {
   "cell_type": "markdown",
   "id": "d5fcaf75",
   "metadata": {},
   "source": [
    "### Import Data Set saved from Task 4"
   ]
  },
  {
   "cell_type": "code",
   "execution_count": 2,
   "id": "8ab2156e",
   "metadata": {},
   "outputs": [],
   "source": [
    "path = r'C:\\Users\\facun\\Desktop\\Data Analysis\\CF\\PYTHON\\Instacart Basket Analysis'"
   ]
  },
  {
   "cell_type": "code",
   "execution_count": 3,
   "id": "0f1435fd",
   "metadata": {},
   "outputs": [],
   "source": [
    "df_high_act_customer = pd.read_pickle(os.path.join(path, '02 Data', 'Prepared Data', 'high_activity_customers.pkl'))"
   ]
  },
  {
   "cell_type": "markdown",
   "id": "04504b08",
   "metadata": {},
   "source": [
    "### Check output"
   ]
  },
  {
   "cell_type": "code",
   "execution_count": 4,
   "id": "c983217e",
   "metadata": {},
   "outputs": [
    {
     "data": {
      "text/html": [
       "<div>\n",
       "<style scoped>\n",
       "    .dataframe tbody tr th:only-of-type {\n",
       "        vertical-align: middle;\n",
       "    }\n",
       "\n",
       "    .dataframe tbody tr th {\n",
       "        vertical-align: top;\n",
       "    }\n",
       "\n",
       "    .dataframe thead th {\n",
       "        text-align: right;\n",
       "    }\n",
       "</style>\n",
       "<table border=\"1\" class=\"dataframe\">\n",
       "  <thead>\n",
       "    <tr style=\"text-align: right;\">\n",
       "      <th></th>\n",
       "      <th>order_id</th>\n",
       "      <th>user_id</th>\n",
       "      <th>order_number</th>\n",
       "      <th>orders_day_of_week</th>\n",
       "      <th>order_hour_of_day</th>\n",
       "      <th>days_since_last_order</th>\n",
       "      <th>product_id</th>\n",
       "      <th>add_to_cart_order</th>\n",
       "      <th>reordered</th>\n",
       "      <th>product_name</th>\n",
       "      <th>...</th>\n",
       "      <th>order_frequency_flag</th>\n",
       "      <th>Gender</th>\n",
       "      <th>State</th>\n",
       "      <th>Age</th>\n",
       "      <th>date_joined</th>\n",
       "      <th>n_dependants</th>\n",
       "      <th>fam_status</th>\n",
       "      <th>income</th>\n",
       "      <th>Region</th>\n",
       "      <th>customer_activity</th>\n",
       "    </tr>\n",
       "  </thead>\n",
       "  <tbody>\n",
       "    <tr>\n",
       "      <th>0</th>\n",
       "      <td>2539329</td>\n",
       "      <td>1</td>\n",
       "      <td>1</td>\n",
       "      <td>2</td>\n",
       "      <td>8</td>\n",
       "      <td>NaN</td>\n",
       "      <td>196</td>\n",
       "      <td>1</td>\n",
       "      <td>0</td>\n",
       "      <td>Soda</td>\n",
       "      <td>...</td>\n",
       "      <td>Non-frequent customer</td>\n",
       "      <td>Female</td>\n",
       "      <td>Alabama</td>\n",
       "      <td>31</td>\n",
       "      <td>2/17/2019</td>\n",
       "      <td>3</td>\n",
       "      <td>married</td>\n",
       "      <td>40423</td>\n",
       "      <td>South</td>\n",
       "      <td>high activity customer</td>\n",
       "    </tr>\n",
       "    <tr>\n",
       "      <th>1</th>\n",
       "      <td>2398795</td>\n",
       "      <td>1</td>\n",
       "      <td>2</td>\n",
       "      <td>3</td>\n",
       "      <td>7</td>\n",
       "      <td>15.0</td>\n",
       "      <td>196</td>\n",
       "      <td>1</td>\n",
       "      <td>1</td>\n",
       "      <td>Soda</td>\n",
       "      <td>...</td>\n",
       "      <td>Non-frequent customer</td>\n",
       "      <td>Female</td>\n",
       "      <td>Alabama</td>\n",
       "      <td>31</td>\n",
       "      <td>2/17/2019</td>\n",
       "      <td>3</td>\n",
       "      <td>married</td>\n",
       "      <td>40423</td>\n",
       "      <td>South</td>\n",
       "      <td>high activity customer</td>\n",
       "    </tr>\n",
       "    <tr>\n",
       "      <th>2</th>\n",
       "      <td>473747</td>\n",
       "      <td>1</td>\n",
       "      <td>3</td>\n",
       "      <td>3</td>\n",
       "      <td>12</td>\n",
       "      <td>21.0</td>\n",
       "      <td>196</td>\n",
       "      <td>1</td>\n",
       "      <td>1</td>\n",
       "      <td>Soda</td>\n",
       "      <td>...</td>\n",
       "      <td>Non-frequent customer</td>\n",
       "      <td>Female</td>\n",
       "      <td>Alabama</td>\n",
       "      <td>31</td>\n",
       "      <td>2/17/2019</td>\n",
       "      <td>3</td>\n",
       "      <td>married</td>\n",
       "      <td>40423</td>\n",
       "      <td>South</td>\n",
       "      <td>high activity customer</td>\n",
       "    </tr>\n",
       "    <tr>\n",
       "      <th>3</th>\n",
       "      <td>2254736</td>\n",
       "      <td>1</td>\n",
       "      <td>4</td>\n",
       "      <td>4</td>\n",
       "      <td>7</td>\n",
       "      <td>29.0</td>\n",
       "      <td>196</td>\n",
       "      <td>1</td>\n",
       "      <td>1</td>\n",
       "      <td>Soda</td>\n",
       "      <td>...</td>\n",
       "      <td>Non-frequent customer</td>\n",
       "      <td>Female</td>\n",
       "      <td>Alabama</td>\n",
       "      <td>31</td>\n",
       "      <td>2/17/2019</td>\n",
       "      <td>3</td>\n",
       "      <td>married</td>\n",
       "      <td>40423</td>\n",
       "      <td>South</td>\n",
       "      <td>high activity customer</td>\n",
       "    </tr>\n",
       "    <tr>\n",
       "      <th>4</th>\n",
       "      <td>431534</td>\n",
       "      <td>1</td>\n",
       "      <td>5</td>\n",
       "      <td>4</td>\n",
       "      <td>15</td>\n",
       "      <td>28.0</td>\n",
       "      <td>196</td>\n",
       "      <td>1</td>\n",
       "      <td>1</td>\n",
       "      <td>Soda</td>\n",
       "      <td>...</td>\n",
       "      <td>Non-frequent customer</td>\n",
       "      <td>Female</td>\n",
       "      <td>Alabama</td>\n",
       "      <td>31</td>\n",
       "      <td>2/17/2019</td>\n",
       "      <td>3</td>\n",
       "      <td>married</td>\n",
       "      <td>40423</td>\n",
       "      <td>South</td>\n",
       "      <td>high activity customer</td>\n",
       "    </tr>\n",
       "  </tbody>\n",
       "</table>\n",
       "<p>5 rows × 31 columns</p>\n",
       "</div>"
      ],
      "text/plain": [
       "   order_id user_id  order_number  orders_day_of_week  order_hour_of_day  \\\n",
       "0   2539329       1             1                   2                  8   \n",
       "1   2398795       1             2                   3                  7   \n",
       "2    473747       1             3                   3                 12   \n",
       "3   2254736       1             4                   4                  7   \n",
       "4    431534       1             5                   4                 15   \n",
       "\n",
       "   days_since_last_order  product_id  add_to_cart_order  reordered  \\\n",
       "0                    NaN         196                  1          0   \n",
       "1                   15.0         196                  1          1   \n",
       "2                   21.0         196                  1          1   \n",
       "3                   29.0         196                  1          1   \n",
       "4                   28.0         196                  1          1   \n",
       "\n",
       "  product_name  ...   order_frequency_flag  Gender    State Age date_joined  \\\n",
       "0         Soda  ...  Non-frequent customer  Female  Alabama  31   2/17/2019   \n",
       "1         Soda  ...  Non-frequent customer  Female  Alabama  31   2/17/2019   \n",
       "2         Soda  ...  Non-frequent customer  Female  Alabama  31   2/17/2019   \n",
       "3         Soda  ...  Non-frequent customer  Female  Alabama  31   2/17/2019   \n",
       "4         Soda  ...  Non-frequent customer  Female  Alabama  31   2/17/2019   \n",
       "\n",
       "  n_dependants  fam_status income  Region       customer_activity  \n",
       "0            3     married  40423   South  high activity customer  \n",
       "1            3     married  40423   South  high activity customer  \n",
       "2            3     married  40423   South  high activity customer  \n",
       "3            3     married  40423   South  high activity customer  \n",
       "4            3     married  40423   South  high activity customer  \n",
       "\n",
       "[5 rows x 31 columns]"
      ]
     },
     "execution_count": 4,
     "metadata": {},
     "output_type": "execute_result"
    }
   ],
   "source": [
    "df_high_act_customer.head()"
   ]
  },
  {
   "cell_type": "markdown",
   "id": "d32d6e96",
   "metadata": {},
   "source": [
    "### Check shape"
   ]
  },
  {
   "cell_type": "code",
   "execution_count": 5,
   "id": "ea0eef7e",
   "metadata": {},
   "outputs": [
    {
     "data": {
      "text/plain": [
       "(30965686, 31)"
      ]
     },
     "execution_count": 5,
     "metadata": {},
     "output_type": "execute_result"
    }
   ],
   "source": [
    "df_high_act_customer.shape"
   ]
  },
  {
   "cell_type": "code",
   "execution_count": 6,
   "id": "ec36858d",
   "metadata": {},
   "outputs": [
    {
     "data": {
      "text/plain": [
       "Index(['order_id', 'user_id', 'order_number', 'orders_day_of_week',\n",
       "       'order_hour_of_day', 'days_since_last_order', 'product_id',\n",
       "       'add_to_cart_order', 'reordered', 'product_name', 'aisle_id',\n",
       "       'department_id', 'prices', 'price_range_loc', 'busiest_day',\n",
       "       'busiest_period_of_day', 'max_order', 'loyalty_flag', 'average_price',\n",
       "       'spending_flag', 'median_days_since_last_order', 'order_frequency_flag',\n",
       "       'Gender', 'State', 'Age', 'date_joined', 'n_dependants', 'fam_status',\n",
       "       'income', 'Region', 'customer_activity'],\n",
       "      dtype='object')"
      ]
     },
     "execution_count": 6,
     "metadata": {},
     "output_type": "execute_result"
    }
   ],
   "source": [
    "df_high_act_customer.columns"
   ]
  },
  {
   "cell_type": "markdown",
   "id": "9904eca9",
   "metadata": {},
   "source": [
    "## 1) Creating sample data set of the data frame\n",
    "\n",
    "I decided to create a sample data set as the original data set is to big and some when i tried to merge some files consumes too much memory of my computer "
   ]
  },
  {
   "cell_type": "code",
   "execution_count": 7,
   "id": "0d639193",
   "metadata": {},
   "outputs": [],
   "source": [
    "# Create a list holding True/False value to the test np.random.rant() <= 0.7\n",
    "\n",
    "dev = np.random.rand(len(df_high_act_customer)) <= 0.7"
   ]
  },
  {
   "cell_type": "code",
   "execution_count": 8,
   "id": "9e498b44",
   "metadata": {},
   "outputs": [],
   "source": [
    "# Store 70% of the sample in the dataframe big\n",
    "\n",
    "big = df_high_act_customer[dev]"
   ]
  },
  {
   "cell_type": "code",
   "execution_count": 9,
   "id": "9fac5993",
   "metadata": {},
   "outputs": [],
   "source": [
    "# Store 30% of the sample in the dataframe small\n",
    "\n",
    "small = df_high_act_customer[~dev]"
   ]
  },
  {
   "cell_type": "code",
   "execution_count": 10,
   "id": "3039d0dc",
   "metadata": {},
   "outputs": [
    {
     "data": {
      "text/plain": [
       "30965686"
      ]
     },
     "execution_count": 10,
     "metadata": {},
     "output_type": "execute_result"
    }
   ],
   "source": [
    "# Check results\n",
    "\n",
    "len(df_high_act_customer)"
   ]
  },
  {
   "cell_type": "code",
   "execution_count": 11,
   "id": "eeecd427",
   "metadata": {},
   "outputs": [
    {
     "data": {
      "text/plain": [
       "30965686"
      ]
     },
     "execution_count": 11,
     "metadata": {},
     "output_type": "execute_result"
    }
   ],
   "source": [
    "len(big) + len(small)"
   ]
  },
  {
   "cell_type": "code",
   "execution_count": 12,
   "id": "64af2d7a",
   "metadata": {},
   "outputs": [],
   "source": [
    "# Reduce samples to subset of only columns relevant to analysis\n",
    "\n",
    "df_hac_final = small[['order_id', 'order_number', 'orders_day_of_week', 'order_hour_of_day','days_since_last_order','product_name', 'Age', 'State', 'product_id','n_dependants', 'department_id', 'prices', 'price_range_loc','busiest_day', 'busiest_period_of_day', 'loyalty_flag','fam_status', 'spending_flag', 'order_frequency_flag', 'Gender', 'income','Region']]"
   ]
  },
  {
   "cell_type": "code",
   "execution_count": 13,
   "id": "d0f885be",
   "metadata": {
    "scrolled": true
   },
   "outputs": [
    {
     "data": {
      "text/html": [
       "<div>\n",
       "<style scoped>\n",
       "    .dataframe tbody tr th:only-of-type {\n",
       "        vertical-align: middle;\n",
       "    }\n",
       "\n",
       "    .dataframe tbody tr th {\n",
       "        vertical-align: top;\n",
       "    }\n",
       "\n",
       "    .dataframe thead th {\n",
       "        text-align: right;\n",
       "    }\n",
       "</style>\n",
       "<table border=\"1\" class=\"dataframe\">\n",
       "  <thead>\n",
       "    <tr style=\"text-align: right;\">\n",
       "      <th></th>\n",
       "      <th>order_id</th>\n",
       "      <th>order_number</th>\n",
       "      <th>orders_day_of_week</th>\n",
       "      <th>order_hour_of_day</th>\n",
       "      <th>days_since_last_order</th>\n",
       "      <th>product_name</th>\n",
       "      <th>Age</th>\n",
       "      <th>State</th>\n",
       "      <th>product_id</th>\n",
       "      <th>n_dependants</th>\n",
       "      <th>...</th>\n",
       "      <th>price_range_loc</th>\n",
       "      <th>busiest_day</th>\n",
       "      <th>busiest_period_of_day</th>\n",
       "      <th>loyalty_flag</th>\n",
       "      <th>fam_status</th>\n",
       "      <th>spending_flag</th>\n",
       "      <th>order_frequency_flag</th>\n",
       "      <th>Gender</th>\n",
       "      <th>income</th>\n",
       "      <th>Region</th>\n",
       "    </tr>\n",
       "  </thead>\n",
       "  <tbody>\n",
       "    <tr>\n",
       "      <th>0</th>\n",
       "      <td>2539329</td>\n",
       "      <td>1</td>\n",
       "      <td>2</td>\n",
       "      <td>8</td>\n",
       "      <td>NaN</td>\n",
       "      <td>Soda</td>\n",
       "      <td>31</td>\n",
       "      <td>Alabama</td>\n",
       "      <td>196</td>\n",
       "      <td>3</td>\n",
       "      <td>...</td>\n",
       "      <td>Mid-range product</td>\n",
       "      <td>Regularly busy</td>\n",
       "      <td>Average orders</td>\n",
       "      <td>New customer</td>\n",
       "      <td>married</td>\n",
       "      <td>Low_spender</td>\n",
       "      <td>Non-frequent customer</td>\n",
       "      <td>Female</td>\n",
       "      <td>40423</td>\n",
       "      <td>South</td>\n",
       "    </tr>\n",
       "    <tr>\n",
       "      <th>3</th>\n",
       "      <td>2254736</td>\n",
       "      <td>4</td>\n",
       "      <td>4</td>\n",
       "      <td>7</td>\n",
       "      <td>29.0</td>\n",
       "      <td>Soda</td>\n",
       "      <td>31</td>\n",
       "      <td>Alabama</td>\n",
       "      <td>196</td>\n",
       "      <td>3</td>\n",
       "      <td>...</td>\n",
       "      <td>Mid-range product</td>\n",
       "      <td>Least busy</td>\n",
       "      <td>Average orders</td>\n",
       "      <td>New customer</td>\n",
       "      <td>married</td>\n",
       "      <td>Low_spender</td>\n",
       "      <td>Non-frequent customer</td>\n",
       "      <td>Female</td>\n",
       "      <td>40423</td>\n",
       "      <td>South</td>\n",
       "    </tr>\n",
       "    <tr>\n",
       "      <th>4</th>\n",
       "      <td>431534</td>\n",
       "      <td>5</td>\n",
       "      <td>4</td>\n",
       "      <td>15</td>\n",
       "      <td>28.0</td>\n",
       "      <td>Soda</td>\n",
       "      <td>31</td>\n",
       "      <td>Alabama</td>\n",
       "      <td>196</td>\n",
       "      <td>3</td>\n",
       "      <td>...</td>\n",
       "      <td>Mid-range product</td>\n",
       "      <td>Least busy</td>\n",
       "      <td>Most orders</td>\n",
       "      <td>New customer</td>\n",
       "      <td>married</td>\n",
       "      <td>Low_spender</td>\n",
       "      <td>Non-frequent customer</td>\n",
       "      <td>Female</td>\n",
       "      <td>40423</td>\n",
       "      <td>South</td>\n",
       "    </tr>\n",
       "    <tr>\n",
       "      <th>5</th>\n",
       "      <td>3367565</td>\n",
       "      <td>6</td>\n",
       "      <td>2</td>\n",
       "      <td>7</td>\n",
       "      <td>19.0</td>\n",
       "      <td>Soda</td>\n",
       "      <td>31</td>\n",
       "      <td>Alabama</td>\n",
       "      <td>196</td>\n",
       "      <td>3</td>\n",
       "      <td>...</td>\n",
       "      <td>Mid-range product</td>\n",
       "      <td>Regularly busy</td>\n",
       "      <td>Average orders</td>\n",
       "      <td>New customer</td>\n",
       "      <td>married</td>\n",
       "      <td>Low_spender</td>\n",
       "      <td>Non-frequent customer</td>\n",
       "      <td>Female</td>\n",
       "      <td>40423</td>\n",
       "      <td>South</td>\n",
       "    </tr>\n",
       "    <tr>\n",
       "      <th>11</th>\n",
       "      <td>2539329</td>\n",
       "      <td>1</td>\n",
       "      <td>2</td>\n",
       "      <td>8</td>\n",
       "      <td>NaN</td>\n",
       "      <td>Original Beef Jerky</td>\n",
       "      <td>31</td>\n",
       "      <td>Alabama</td>\n",
       "      <td>12427</td>\n",
       "      <td>3</td>\n",
       "      <td>...</td>\n",
       "      <td>Low-range product</td>\n",
       "      <td>Regularly busy</td>\n",
       "      <td>Average orders</td>\n",
       "      <td>New customer</td>\n",
       "      <td>married</td>\n",
       "      <td>Low_spender</td>\n",
       "      <td>Non-frequent customer</td>\n",
       "      <td>Female</td>\n",
       "      <td>40423</td>\n",
       "      <td>South</td>\n",
       "    </tr>\n",
       "  </tbody>\n",
       "</table>\n",
       "<p>5 rows × 22 columns</p>\n",
       "</div>"
      ],
      "text/plain": [
       "    order_id  order_number  orders_day_of_week  order_hour_of_day  \\\n",
       "0    2539329             1                   2                  8   \n",
       "3    2254736             4                   4                  7   \n",
       "4     431534             5                   4                 15   \n",
       "5    3367565             6                   2                  7   \n",
       "11   2539329             1                   2                  8   \n",
       "\n",
       "    days_since_last_order         product_name  Age    State  product_id  \\\n",
       "0                     NaN                 Soda   31  Alabama         196   \n",
       "3                    29.0                 Soda   31  Alabama         196   \n",
       "4                    28.0                 Soda   31  Alabama         196   \n",
       "5                    19.0                 Soda   31  Alabama         196   \n",
       "11                    NaN  Original Beef Jerky   31  Alabama       12427   \n",
       "\n",
       "    n_dependants  ...    price_range_loc     busiest_day  \\\n",
       "0              3  ...  Mid-range product  Regularly busy   \n",
       "3              3  ...  Mid-range product      Least busy   \n",
       "4              3  ...  Mid-range product      Least busy   \n",
       "5              3  ...  Mid-range product  Regularly busy   \n",
       "11             3  ...  Low-range product  Regularly busy   \n",
       "\n",
       "   busiest_period_of_day  loyalty_flag fam_status spending_flag  \\\n",
       "0         Average orders  New customer    married   Low_spender   \n",
       "3         Average orders  New customer    married   Low_spender   \n",
       "4            Most orders  New customer    married   Low_spender   \n",
       "5         Average orders  New customer    married   Low_spender   \n",
       "11        Average orders  New customer    married   Low_spender   \n",
       "\n",
       "     order_frequency_flag  Gender income Region  \n",
       "0   Non-frequent customer  Female  40423  South  \n",
       "3   Non-frequent customer  Female  40423  South  \n",
       "4   Non-frequent customer  Female  40423  South  \n",
       "5   Non-frequent customer  Female  40423  South  \n",
       "11  Non-frequent customer  Female  40423  South  \n",
       "\n",
       "[5 rows x 22 columns]"
      ]
     },
     "execution_count": 13,
     "metadata": {},
     "output_type": "execute_result"
    }
   ],
   "source": [
    "df_hac_final.head()"
   ]
  },
  {
   "cell_type": "code",
   "execution_count": 14,
   "id": "ded7a829",
   "metadata": {},
   "outputs": [
    {
     "data": {
      "text/plain": [
       "(9291228, 22)"
      ]
     },
     "execution_count": 14,
     "metadata": {},
     "output_type": "execute_result"
    }
   ],
   "source": [
    "df_hac_final.shape"
   ]
  },
  {
   "cell_type": "markdown",
   "id": "918a5a0b",
   "metadata": {},
   "source": [
    "## 2) Age Group"
   ]
  },
  {
   "cell_type": "markdown",
   "id": "9a3cc49d",
   "metadata": {},
   "source": [
    "To create the age groups and the flags with need to find the minimum and maximum age.\n",
    "\n",
    "After that i decided to categorize them in 3 groups:\n",
    "- **Young Adult**\n",
    "- **Middle-Age Adult**\n",
    "- **Senior Adult**\n"
   ]
  },
  {
   "cell_type": "code",
   "execution_count": 15,
   "id": "3863313e",
   "metadata": {},
   "outputs": [
    {
     "data": {
      "text/plain": [
       "18"
      ]
     },
     "execution_count": 15,
     "metadata": {},
     "output_type": "execute_result"
    }
   ],
   "source": [
    "df_hac_final['Age'].min()"
   ]
  },
  {
   "cell_type": "code",
   "execution_count": 16,
   "id": "8daccd6a",
   "metadata": {},
   "outputs": [
    {
     "data": {
      "text/plain": [
       "81"
      ]
     },
     "execution_count": 16,
     "metadata": {},
     "output_type": "execute_result"
    }
   ],
   "source": [
    "df_hac_final['Age'].max()"
   ]
  },
  {
   "cell_type": "code",
   "execution_count": 17,
   "id": "40a1841c",
   "metadata": {},
   "outputs": [
    {
     "name": "stderr",
     "output_type": "stream",
     "text": [
      "C:\\Users\\facun\\AppData\\Local\\Temp\\ipykernel_4128\\2612793188.py:1: SettingWithCopyWarning: \n",
      "A value is trying to be set on a copy of a slice from a DataFrame.\n",
      "Try using .loc[row_indexer,col_indexer] = value instead\n",
      "\n",
      "See the caveats in the documentation: https://pandas.pydata.org/pandas-docs/stable/user_guide/indexing.html#returning-a-view-versus-a-copy\n",
      "  df_hac_final.loc[df_hac_final['Age'] <= 35, 'age_group'] = 'Young Adult: 18-35'\n"
     ]
    }
   ],
   "source": [
    "df_hac_final.loc[df_hac_final['Age'] <= 35, 'age_group'] = 'Young Adult: 18-35'\n",
    "df_hac_final.loc[(df_hac_final['Age'] > 35) & (df_hac_final['Age'] <= 55), 'age_group'] = 'Middle-Age Adult: 36-55'\n",
    "df_hac_final.loc[df_hac_final['Age'] > 55, 'age_group'] = 'Senior Adult: 56+'"
   ]
  },
  {
   "cell_type": "markdown",
   "id": "2b98d197",
   "metadata": {},
   "source": [
    "#### Check frequency"
   ]
  },
  {
   "cell_type": "code",
   "execution_count": 18,
   "id": "3e62a0d0",
   "metadata": {
    "scrolled": true
   },
   "outputs": [
    {
     "data": {
      "text/plain": [
       "Senior Adult: 56+          3754102\n",
       "Middle-Age Adult: 36-55    2916519\n",
       "Young Adult: 18-35         2620607\n",
       "Name: age_group, dtype: int64"
      ]
     },
     "execution_count": 18,
     "metadata": {},
     "output_type": "execute_result"
    }
   ],
   "source": [
    "df_hac_final['age_group'].value_counts(dropna = False)"
   ]
  },
  {
   "cell_type": "code",
   "execution_count": 19,
   "id": "3818aa4c",
   "metadata": {},
   "outputs": [
    {
     "data": {
      "text/html": [
       "<div>\n",
       "<style scoped>\n",
       "    .dataframe tbody tr th:only-of-type {\n",
       "        vertical-align: middle;\n",
       "    }\n",
       "\n",
       "    .dataframe tbody tr th {\n",
       "        vertical-align: top;\n",
       "    }\n",
       "\n",
       "    .dataframe thead th {\n",
       "        text-align: right;\n",
       "    }\n",
       "</style>\n",
       "<table border=\"1\" class=\"dataframe\">\n",
       "  <thead>\n",
       "    <tr style=\"text-align: right;\">\n",
       "      <th></th>\n",
       "      <th>order_id</th>\n",
       "      <th>age_group</th>\n",
       "    </tr>\n",
       "  </thead>\n",
       "  <tbody>\n",
       "    <tr>\n",
       "      <th>0</th>\n",
       "      <td>2539329</td>\n",
       "      <td>Young Adult: 18-35</td>\n",
       "    </tr>\n",
       "    <tr>\n",
       "      <th>3</th>\n",
       "      <td>2254736</td>\n",
       "      <td>Young Adult: 18-35</td>\n",
       "    </tr>\n",
       "    <tr>\n",
       "      <th>4</th>\n",
       "      <td>431534</td>\n",
       "      <td>Young Adult: 18-35</td>\n",
       "    </tr>\n",
       "    <tr>\n",
       "      <th>5</th>\n",
       "      <td>3367565</td>\n",
       "      <td>Young Adult: 18-35</td>\n",
       "    </tr>\n",
       "    <tr>\n",
       "      <th>11</th>\n",
       "      <td>2539329</td>\n",
       "      <td>Young Adult: 18-35</td>\n",
       "    </tr>\n",
       "  </tbody>\n",
       "</table>\n",
       "</div>"
      ],
      "text/plain": [
       "    order_id           age_group\n",
       "0    2539329  Young Adult: 18-35\n",
       "3    2254736  Young Adult: 18-35\n",
       "4     431534  Young Adult: 18-35\n",
       "5    3367565  Young Adult: 18-35\n",
       "11   2539329  Young Adult: 18-35"
      ]
     },
     "execution_count": 19,
     "metadata": {},
     "output_type": "execute_result"
    }
   ],
   "source": [
    "df_hac_final[['order_id','age_group']].head()"
   ]
  },
  {
   "cell_type": "markdown",
   "id": "c7682de4",
   "metadata": {},
   "source": [
    "## 3) Income Group"
   ]
  },
  {
   "cell_type": "markdown",
   "id": "d7eb592e",
   "metadata": {},
   "source": [
    "To create the Income group and the flags of it I need to find the minimum and maximum age.\n",
    "\n",
    "After that i decided to categorize them in 4 groups:\n",
    "- **Low Income**\n",
    "- **Middle Income**\n",
    "- **High Income**\n",
    "- **Elevated Income**"
   ]
  },
  {
   "cell_type": "code",
   "execution_count": 20,
   "id": "5203699d",
   "metadata": {},
   "outputs": [
    {
     "data": {
      "text/plain": [
       "25903"
      ]
     },
     "execution_count": 20,
     "metadata": {},
     "output_type": "execute_result"
    }
   ],
   "source": [
    "df_hac_final['income'].min()"
   ]
  },
  {
   "cell_type": "code",
   "execution_count": 21,
   "id": "f555250e",
   "metadata": {},
   "outputs": [
    {
     "data": {
      "text/plain": [
       "593901"
      ]
     },
     "execution_count": 21,
     "metadata": {},
     "output_type": "execute_result"
    }
   ],
   "source": [
    "df_hac_final['income'].max()"
   ]
  },
  {
   "cell_type": "code",
   "execution_count": 22,
   "id": "293be1e5",
   "metadata": {},
   "outputs": [
    {
     "name": "stderr",
     "output_type": "stream",
     "text": [
      "C:\\Users\\facun\\AppData\\Local\\Temp\\ipykernel_4128\\2436463696.py:1: SettingWithCopyWarning: \n",
      "A value is trying to be set on a copy of a slice from a DataFrame.\n",
      "Try using .loc[row_indexer,col_indexer] = value instead\n",
      "\n",
      "See the caveats in the documentation: https://pandas.pydata.org/pandas-docs/stable/user_guide/indexing.html#returning-a-view-versus-a-copy\n",
      "  df_hac_final.loc[df_hac_final['income'] <= 100000, 'income_group'] = 'Low Income'\n"
     ]
    }
   ],
   "source": [
    "df_hac_final.loc[df_hac_final['income'] <= 100000, 'income_group'] = 'Low Income'\n",
    "df_hac_final.loc[(df_hac_final['income'] > 100000) & (df_hac_final['income'] <= 200000), 'income_group'] = 'Medium Income'\n",
    "df_hac_final.loc[(df_hac_final['income'] > 200000) & (df_hac_final['income'] <= 300000), 'income_group'] = 'High Income'\n",
    "df_hac_final.loc[df_hac_final['income'] > 300000, 'income_group'] = 'Elevated Income'"
   ]
  },
  {
   "cell_type": "markdown",
   "id": "41701ad7",
   "metadata": {},
   "source": [
    "#### Check frequency"
   ]
  },
  {
   "cell_type": "code",
   "execution_count": 23,
   "id": "930d8c61",
   "metadata": {},
   "outputs": [
    {
     "data": {
      "text/plain": [
       "Low Income         5026729\n",
       "Medium Income      4187708\n",
       "High Income          46566\n",
       "Elevated Income      30225\n",
       "Name: income_group, dtype: int64"
      ]
     },
     "execution_count": 23,
     "metadata": {},
     "output_type": "execute_result"
    }
   ],
   "source": [
    "df_hac_final['income_group'].value_counts(dropna = False)"
   ]
  },
  {
   "cell_type": "code",
   "execution_count": 24,
   "id": "ab7bf172",
   "metadata": {},
   "outputs": [
    {
     "data": {
      "text/html": [
       "<div>\n",
       "<style scoped>\n",
       "    .dataframe tbody tr th:only-of-type {\n",
       "        vertical-align: middle;\n",
       "    }\n",
       "\n",
       "    .dataframe tbody tr th {\n",
       "        vertical-align: top;\n",
       "    }\n",
       "\n",
       "    .dataframe thead th {\n",
       "        text-align: right;\n",
       "    }\n",
       "</style>\n",
       "<table border=\"1\" class=\"dataframe\">\n",
       "  <thead>\n",
       "    <tr style=\"text-align: right;\">\n",
       "      <th></th>\n",
       "      <th>order_id</th>\n",
       "      <th>income_group</th>\n",
       "    </tr>\n",
       "  </thead>\n",
       "  <tbody>\n",
       "    <tr>\n",
       "      <th>0</th>\n",
       "      <td>2539329</td>\n",
       "      <td>Low Income</td>\n",
       "    </tr>\n",
       "    <tr>\n",
       "      <th>3</th>\n",
       "      <td>2254736</td>\n",
       "      <td>Low Income</td>\n",
       "    </tr>\n",
       "    <tr>\n",
       "      <th>4</th>\n",
       "      <td>431534</td>\n",
       "      <td>Low Income</td>\n",
       "    </tr>\n",
       "    <tr>\n",
       "      <th>5</th>\n",
       "      <td>3367565</td>\n",
       "      <td>Low Income</td>\n",
       "    </tr>\n",
       "    <tr>\n",
       "      <th>11</th>\n",
       "      <td>2539329</td>\n",
       "      <td>Low Income</td>\n",
       "    </tr>\n",
       "  </tbody>\n",
       "</table>\n",
       "</div>"
      ],
      "text/plain": [
       "    order_id income_group\n",
       "0    2539329   Low Income\n",
       "3    2254736   Low Income\n",
       "4     431534   Low Income\n",
       "5    3367565   Low Income\n",
       "11   2539329   Low Income"
      ]
     },
     "execution_count": 24,
     "metadata": {},
     "output_type": "execute_result"
    }
   ],
   "source": [
    "df_hac_final[['order_id','income_group']].head()"
   ]
  },
  {
   "cell_type": "markdown",
   "id": "0cadef84",
   "metadata": {},
   "source": [
    "##  4) Department Group"
   ]
  },
  {
   "cell_type": "markdown",
   "id": "b85032aa",
   "metadata": {},
   "source": [
    "### Importing department csv"
   ]
  },
  {
   "cell_type": "code",
   "execution_count": 25,
   "id": "b24040f9",
   "metadata": {},
   "outputs": [],
   "source": [
    "df_depts = pd.read_csv(os.path.join(path, '02 Data', 'Prepared Data', 'departments_wrangled.csv'), index_col=False)"
   ]
  },
  {
   "cell_type": "markdown",
   "id": "e19dfdba",
   "metadata": {},
   "source": [
    "### Check output"
   ]
  },
  {
   "cell_type": "code",
   "execution_count": 26,
   "id": "84411f53",
   "metadata": {},
   "outputs": [
    {
     "data": {
      "text/html": [
       "<div>\n",
       "<style scoped>\n",
       "    .dataframe tbody tr th:only-of-type {\n",
       "        vertical-align: middle;\n",
       "    }\n",
       "\n",
       "    .dataframe tbody tr th {\n",
       "        vertical-align: top;\n",
       "    }\n",
       "\n",
       "    .dataframe thead th {\n",
       "        text-align: right;\n",
       "    }\n",
       "</style>\n",
       "<table border=\"1\" class=\"dataframe\">\n",
       "  <thead>\n",
       "    <tr style=\"text-align: right;\">\n",
       "      <th></th>\n",
       "      <th>department_id</th>\n",
       "      <th>department</th>\n",
       "    </tr>\n",
       "  </thead>\n",
       "  <tbody>\n",
       "    <tr>\n",
       "      <th>0</th>\n",
       "      <td>1</td>\n",
       "      <td>frozen</td>\n",
       "    </tr>\n",
       "    <tr>\n",
       "      <th>1</th>\n",
       "      <td>2</td>\n",
       "      <td>other</td>\n",
       "    </tr>\n",
       "    <tr>\n",
       "      <th>2</th>\n",
       "      <td>3</td>\n",
       "      <td>bakery</td>\n",
       "    </tr>\n",
       "    <tr>\n",
       "      <th>3</th>\n",
       "      <td>4</td>\n",
       "      <td>produce</td>\n",
       "    </tr>\n",
       "    <tr>\n",
       "      <th>4</th>\n",
       "      <td>5</td>\n",
       "      <td>alcohol</td>\n",
       "    </tr>\n",
       "  </tbody>\n",
       "</table>\n",
       "</div>"
      ],
      "text/plain": [
       "   department_id department\n",
       "0              1     frozen\n",
       "1              2      other\n",
       "2              3     bakery\n",
       "3              4    produce\n",
       "4              5    alcohol"
      ]
     },
     "execution_count": 26,
     "metadata": {},
     "output_type": "execute_result"
    }
   ],
   "source": [
    "df_depts.head()"
   ]
  },
  {
   "cell_type": "code",
   "execution_count": 27,
   "id": "3cfcf9d6",
   "metadata": {},
   "outputs": [],
   "source": [
    "# Merging the departments dataframe with the high activity customer datd\n",
    "\n",
    "df_high_act_customer_dept = df_hac_final.merge(df_depts, on = 'department_id')"
   ]
  },
  {
   "cell_type": "code",
   "execution_count": 28,
   "id": "756f114b",
   "metadata": {},
   "outputs": [
    {
     "data": {
      "text/html": [
       "<div>\n",
       "<style scoped>\n",
       "    .dataframe tbody tr th:only-of-type {\n",
       "        vertical-align: middle;\n",
       "    }\n",
       "\n",
       "    .dataframe tbody tr th {\n",
       "        vertical-align: top;\n",
       "    }\n",
       "\n",
       "    .dataframe thead th {\n",
       "        text-align: right;\n",
       "    }\n",
       "</style>\n",
       "<table border=\"1\" class=\"dataframe\">\n",
       "  <thead>\n",
       "    <tr style=\"text-align: right;\">\n",
       "      <th></th>\n",
       "      <th>order_id</th>\n",
       "      <th>order_number</th>\n",
       "      <th>orders_day_of_week</th>\n",
       "      <th>order_hour_of_day</th>\n",
       "      <th>days_since_last_order</th>\n",
       "      <th>product_name</th>\n",
       "      <th>Age</th>\n",
       "      <th>State</th>\n",
       "      <th>product_id</th>\n",
       "      <th>n_dependants</th>\n",
       "      <th>...</th>\n",
       "      <th>loyalty_flag</th>\n",
       "      <th>fam_status</th>\n",
       "      <th>spending_flag</th>\n",
       "      <th>order_frequency_flag</th>\n",
       "      <th>Gender</th>\n",
       "      <th>income</th>\n",
       "      <th>Region</th>\n",
       "      <th>age_group</th>\n",
       "      <th>income_group</th>\n",
       "      <th>department</th>\n",
       "    </tr>\n",
       "  </thead>\n",
       "  <tbody>\n",
       "    <tr>\n",
       "      <th>0</th>\n",
       "      <td>2539329</td>\n",
       "      <td>1</td>\n",
       "      <td>2</td>\n",
       "      <td>8</td>\n",
       "      <td>NaN</td>\n",
       "      <td>Soda</td>\n",
       "      <td>31</td>\n",
       "      <td>Alabama</td>\n",
       "      <td>196</td>\n",
       "      <td>3</td>\n",
       "      <td>...</td>\n",
       "      <td>New customer</td>\n",
       "      <td>married</td>\n",
       "      <td>Low_spender</td>\n",
       "      <td>Non-frequent customer</td>\n",
       "      <td>Female</td>\n",
       "      <td>40423</td>\n",
       "      <td>South</td>\n",
       "      <td>Young Adult: 18-35</td>\n",
       "      <td>Low Income</td>\n",
       "      <td>beverages</td>\n",
       "    </tr>\n",
       "    <tr>\n",
       "      <th>1</th>\n",
       "      <td>2254736</td>\n",
       "      <td>4</td>\n",
       "      <td>4</td>\n",
       "      <td>7</td>\n",
       "      <td>29.0</td>\n",
       "      <td>Soda</td>\n",
       "      <td>31</td>\n",
       "      <td>Alabama</td>\n",
       "      <td>196</td>\n",
       "      <td>3</td>\n",
       "      <td>...</td>\n",
       "      <td>New customer</td>\n",
       "      <td>married</td>\n",
       "      <td>Low_spender</td>\n",
       "      <td>Non-frequent customer</td>\n",
       "      <td>Female</td>\n",
       "      <td>40423</td>\n",
       "      <td>South</td>\n",
       "      <td>Young Adult: 18-35</td>\n",
       "      <td>Low Income</td>\n",
       "      <td>beverages</td>\n",
       "    </tr>\n",
       "    <tr>\n",
       "      <th>2</th>\n",
       "      <td>431534</td>\n",
       "      <td>5</td>\n",
       "      <td>4</td>\n",
       "      <td>15</td>\n",
       "      <td>28.0</td>\n",
       "      <td>Soda</td>\n",
       "      <td>31</td>\n",
       "      <td>Alabama</td>\n",
       "      <td>196</td>\n",
       "      <td>3</td>\n",
       "      <td>...</td>\n",
       "      <td>New customer</td>\n",
       "      <td>married</td>\n",
       "      <td>Low_spender</td>\n",
       "      <td>Non-frequent customer</td>\n",
       "      <td>Female</td>\n",
       "      <td>40423</td>\n",
       "      <td>South</td>\n",
       "      <td>Young Adult: 18-35</td>\n",
       "      <td>Low Income</td>\n",
       "      <td>beverages</td>\n",
       "    </tr>\n",
       "    <tr>\n",
       "      <th>3</th>\n",
       "      <td>3367565</td>\n",
       "      <td>6</td>\n",
       "      <td>2</td>\n",
       "      <td>7</td>\n",
       "      <td>19.0</td>\n",
       "      <td>Soda</td>\n",
       "      <td>31</td>\n",
       "      <td>Alabama</td>\n",
       "      <td>196</td>\n",
       "      <td>3</td>\n",
       "      <td>...</td>\n",
       "      <td>New customer</td>\n",
       "      <td>married</td>\n",
       "      <td>Low_spender</td>\n",
       "      <td>Non-frequent customer</td>\n",
       "      <td>Female</td>\n",
       "      <td>40423</td>\n",
       "      <td>South</td>\n",
       "      <td>Young Adult: 18-35</td>\n",
       "      <td>Low Income</td>\n",
       "      <td>beverages</td>\n",
       "    </tr>\n",
       "    <tr>\n",
       "      <th>4</th>\n",
       "      <td>2295261</td>\n",
       "      <td>9</td>\n",
       "      <td>1</td>\n",
       "      <td>16</td>\n",
       "      <td>0.0</td>\n",
       "      <td>Zero Calorie Cola</td>\n",
       "      <td>31</td>\n",
       "      <td>Alabama</td>\n",
       "      <td>46149</td>\n",
       "      <td>3</td>\n",
       "      <td>...</td>\n",
       "      <td>New customer</td>\n",
       "      <td>married</td>\n",
       "      <td>Low_spender</td>\n",
       "      <td>Non-frequent customer</td>\n",
       "      <td>Female</td>\n",
       "      <td>40423</td>\n",
       "      <td>South</td>\n",
       "      <td>Young Adult: 18-35</td>\n",
       "      <td>Low Income</td>\n",
       "      <td>beverages</td>\n",
       "    </tr>\n",
       "  </tbody>\n",
       "</table>\n",
       "<p>5 rows × 25 columns</p>\n",
       "</div>"
      ],
      "text/plain": [
       "   order_id  order_number  orders_day_of_week  order_hour_of_day  \\\n",
       "0   2539329             1                   2                  8   \n",
       "1   2254736             4                   4                  7   \n",
       "2    431534             5                   4                 15   \n",
       "3   3367565             6                   2                  7   \n",
       "4   2295261             9                   1                 16   \n",
       "\n",
       "   days_since_last_order       product_name  Age    State  product_id  \\\n",
       "0                    NaN               Soda   31  Alabama         196   \n",
       "1                   29.0               Soda   31  Alabama         196   \n",
       "2                   28.0               Soda   31  Alabama         196   \n",
       "3                   19.0               Soda   31  Alabama         196   \n",
       "4                    0.0  Zero Calorie Cola   31  Alabama       46149   \n",
       "\n",
       "   n_dependants  ...  loyalty_flag  fam_status spending_flag  \\\n",
       "0             3  ...  New customer     married   Low_spender   \n",
       "1             3  ...  New customer     married   Low_spender   \n",
       "2             3  ...  New customer     married   Low_spender   \n",
       "3             3  ...  New customer     married   Low_spender   \n",
       "4             3  ...  New customer     married   Low_spender   \n",
       "\n",
       "    order_frequency_flag  Gender income Region           age_group  \\\n",
       "0  Non-frequent customer  Female  40423  South  Young Adult: 18-35   \n",
       "1  Non-frequent customer  Female  40423  South  Young Adult: 18-35   \n",
       "2  Non-frequent customer  Female  40423  South  Young Adult: 18-35   \n",
       "3  Non-frequent customer  Female  40423  South  Young Adult: 18-35   \n",
       "4  Non-frequent customer  Female  40423  South  Young Adult: 18-35   \n",
       "\n",
       "  income_group department  \n",
       "0   Low Income  beverages  \n",
       "1   Low Income  beverages  \n",
       "2   Low Income  beverages  \n",
       "3   Low Income  beverages  \n",
       "4   Low Income  beverages  \n",
       "\n",
       "[5 rows x 25 columns]"
      ]
     },
     "execution_count": 28,
     "metadata": {},
     "output_type": "execute_result"
    }
   ],
   "source": [
    "df_high_act_customer_dept.head()"
   ]
  },
  {
   "cell_type": "markdown",
   "id": "6bb5904b",
   "metadata": {},
   "source": [
    "## 5) Parents Group"
   ]
  },
  {
   "cell_type": "code",
   "execution_count": 29,
   "id": "2a204b1e",
   "metadata": {},
   "outputs": [],
   "source": [
    "df_high_act_customer_dept.loc[df_high_act_customer_dept['n_dependants'] > 0, 'dependants_group'] = 'Parent'\n",
    "df_high_act_customer_dept.loc[df_high_act_customer_dept['n_dependants'] == 0, 'dependants_group'] = 'Childless'"
   ]
  },
  {
   "cell_type": "code",
   "execution_count": 30,
   "id": "c9ad9a6e",
   "metadata": {},
   "outputs": [
    {
     "data": {
      "text/plain": [
       "Parent       6969157\n",
       "Childless    2322071\n",
       "Name: dependants_group, dtype: int64"
      ]
     },
     "execution_count": 30,
     "metadata": {},
     "output_type": "execute_result"
    }
   ],
   "source": [
    "df_high_act_customer_dept['dependants_group'].value_counts(dropna = False)"
   ]
  },
  {
   "cell_type": "markdown",
   "id": "bde75f77",
   "metadata": {},
   "source": [
    "## 6) Customer Profile"
   ]
  },
  {
   "cell_type": "code",
   "execution_count": 31,
   "id": "ef762818",
   "metadata": {},
   "outputs": [
    {
     "data": {
      "text/plain": [
       "married                             6525351\n",
       "single                              1527998\n",
       "divorced/widowed                     794073\n",
       "living with parents and siblings     443806\n",
       "Name: fam_status, dtype: int64"
      ]
     },
     "execution_count": 31,
     "metadata": {},
     "output_type": "execute_result"
    }
   ],
   "source": [
    "df_high_act_customer_dept['fam_status'].value_counts(dropna = False)"
   ]
  },
  {
   "cell_type": "markdown",
   "id": "5e70e632",
   "metadata": {},
   "source": [
    "I decide to create a **Family Type** group as customer profile. "
   ]
  },
  {
   "cell_type": "code",
   "execution_count": 32,
   "id": "3a46989c",
   "metadata": {},
   "outputs": [],
   "source": [
    "df_high_act_customer_dept.loc[(df_high_act_customer_dept['n_dependants'] > 0) & (df_high_act_customer_dept['fam_status'] == 'married'), 'family_type'] = 'Married with children'\n",
    "df_high_act_customer_dept.loc[(df_high_act_customer_dept['n_dependants'] > 0) & (df_high_act_customer_dept['fam_status'] == 'single'), 'family_type'] = 'Single parent'\n",
    "df_high_act_customer_dept.loc[(df_high_act_customer_dept['n_dependants'] > 0) & (df_high_act_customer_dept['fam_status'] == 'divorced/widowed'), 'family_type'] = 'divorced/widowed with children'\n",
    "df_high_act_customer_dept.loc[(df_high_act_customer_dept['n_dependants'] > 0) & (df_high_act_customer_dept['fam_status'] == 'living with parents and siblings'), 'family_type'] = 'living with parents and siblings with children'\n",
    "df_high_act_customer_dept.loc[(df_high_act_customer_dept['n_dependants'] == 0) & (df_high_act_customer_dept['fam_status'] == 'married'), 'family_type'] = 'Married without children'\n",
    "df_high_act_customer_dept.loc[(df_high_act_customer_dept['n_dependants'] == 0) & (df_high_act_customer_dept['fam_status'] == 'single'), 'family_type'] = 'Single without children'\n",
    "df_high_act_customer_dept.loc[(df_high_act_customer_dept['n_dependants'] == 0) & (df_high_act_customer_dept['fam_status'] == 'divorced/widowed'), 'family_type'] = 'divorced/widowed without children'\n",
    "df_high_act_customer_dept.loc[(df_high_act_customer_dept['n_dependants'] == 0) & (df_high_act_customer_dept['fam_status'] == 'living with parents and siblings'), 'family_type'] = 'living with parents and siblings without children'"
   ]
  },
  {
   "cell_type": "code",
   "execution_count": 33,
   "id": "72cd7e73",
   "metadata": {},
   "outputs": [
    {
     "data": {
      "text/plain": [
       "Married with children                             6525351\n",
       "Single without children                           1527998\n",
       "divorced/widowed without children                  794073\n",
       "living with parents and siblings with children     443806\n",
       "Name: family_type, dtype: int64"
      ]
     },
     "execution_count": 33,
     "metadata": {},
     "output_type": "execute_result"
    }
   ],
   "source": [
    "value_counts = df_high_act_customer_dept['family_type'].value_counts(dropna = False)\n",
    "value_counts"
   ]
  },
  {
   "cell_type": "markdown",
   "id": "680d3b9e",
   "metadata": {},
   "source": [
    "I also though would be good to know the percentage representation. (This is more for my own knowledge, it crossed my mind how i can see the results in percentage)"
   ]
  },
  {
   "cell_type": "code",
   "execution_count": 34,
   "id": "cf25f398",
   "metadata": {},
   "outputs": [
    {
     "data": {
      "text/html": [
       "<div>\n",
       "<style scoped>\n",
       "    .dataframe tbody tr th:only-of-type {\n",
       "        vertical-align: middle;\n",
       "    }\n",
       "\n",
       "    .dataframe tbody tr th {\n",
       "        vertical-align: top;\n",
       "    }\n",
       "\n",
       "    .dataframe thead th {\n",
       "        text-align: right;\n",
       "    }\n",
       "</style>\n",
       "<table border=\"1\" class=\"dataframe\">\n",
       "  <thead>\n",
       "    <tr style=\"text-align: right;\">\n",
       "      <th></th>\n",
       "      <th>Family Type</th>\n",
       "      <th>Percentage</th>\n",
       "    </tr>\n",
       "  </thead>\n",
       "  <tbody>\n",
       "    <tr>\n",
       "      <th>0</th>\n",
       "      <td>Married with children</td>\n",
       "      <td>70.23%</td>\n",
       "    </tr>\n",
       "    <tr>\n",
       "      <th>1</th>\n",
       "      <td>Single without children</td>\n",
       "      <td>16.45%</td>\n",
       "    </tr>\n",
       "    <tr>\n",
       "      <th>2</th>\n",
       "      <td>divorced/widowed without children</td>\n",
       "      <td>8.55%</td>\n",
       "    </tr>\n",
       "    <tr>\n",
       "      <th>3</th>\n",
       "      <td>living with parents and siblings with children</td>\n",
       "      <td>4.78%</td>\n",
       "    </tr>\n",
       "  </tbody>\n",
       "</table>\n",
       "</div>"
      ],
      "text/plain": [
       "                                      Family Type Percentage\n",
       "0                           Married with children     70.23%\n",
       "1                         Single without children     16.45%\n",
       "2               divorced/widowed without children      8.55%\n",
       "3  living with parents and siblings with children      4.78%"
      ]
     },
     "execution_count": 34,
     "metadata": {},
     "output_type": "execute_result"
    }
   ],
   "source": [
    "total_count = value_counts.sum()\n",
    "percentage_df = (value_counts / total_count * 100).reset_index()\n",
    "percentage_df.columns = ['Family Type', 'Percentage']\n",
    "percentage_df['Percentage'] = percentage_df['Percentage'].apply(lambda x: f'{x:.2f}%')\n",
    "percentage_df"
   ]
  },
  {
   "cell_type": "markdown",
   "id": "c475b942",
   "metadata": {},
   "source": [
    "## 7) Days shoppers group\n",
    "\n",
    "- First i assigned the day name to the day of the week\n",
    "- Then create the days shopper"
   ]
  },
  {
   "cell_type": "code",
   "execution_count": 35,
   "id": "aa8c214a",
   "metadata": {},
   "outputs": [],
   "source": [
    "df_high_act_customer_dept.loc[df_high_act_customer_dept['orders_day_of_week'] == 0, 'Day'] = 'Saturday'\n",
    "df_high_act_customer_dept.loc[df_high_act_customer_dept['orders_day_of_week'] == 1, 'Day'] = 'Sunday'\n",
    "df_high_act_customer_dept.loc[df_high_act_customer_dept['orders_day_of_week'] == 2, 'Day'] = 'Monday'\n",
    "df_high_act_customer_dept.loc[df_high_act_customer_dept['orders_day_of_week'] == 3, 'Day'] = 'Tuesday'\n",
    "df_high_act_customer_dept.loc[df_high_act_customer_dept['orders_day_of_week'] == 4, 'Day'] = 'Wednesday'\n",
    "df_high_act_customer_dept.loc[df_high_act_customer_dept['orders_day_of_week'] == 5, 'Day'] = 'Thursday'\n",
    "df_high_act_customer_dept.loc[df_high_act_customer_dept['orders_day_of_week'] == 6, 'Day'] = 'Friday'"
   ]
  },
  {
   "cell_type": "code",
   "execution_count": 36,
   "id": "ad822343",
   "metadata": {},
   "outputs": [
    {
     "data": {
      "text/plain": [
       "Saturday     1773487\n",
       "Sunday       1623479\n",
       "Friday       1287526\n",
       "Thursday     1209466\n",
       "Monday       1206899\n",
       "Tuesday      1101796\n",
       "Wednesday    1088575\n",
       "Name: Day, dtype: int64"
      ]
     },
     "execution_count": 36,
     "metadata": {},
     "output_type": "execute_result"
    }
   ],
   "source": [
    "df_high_act_customer_dept['Day'].value_counts(dropna = False)"
   ]
  },
  {
   "cell_type": "code",
   "execution_count": 37,
   "id": "5bab8917",
   "metadata": {},
   "outputs": [],
   "source": [
    "df_high_act_customer_dept.loc[(df_high_act_customer_dept['Day'] == 'Saturday') | (df_high_act_customer_dept['Day'] == 'Sunday'), 'Shopper day'] = 'Weekend Shopper'\n",
    "df_high_act_customer_dept.loc[(df_high_act_customer_dept['Day'] != 'Saturday') & (df_high_act_customer_dept['Day'] != 'Sunday'), 'Shopper day'] = 'Weekday Shopper'\n"
   ]
  },
  {
   "cell_type": "code",
   "execution_count": 38,
   "id": "8024e0e3",
   "metadata": {},
   "outputs": [
    {
     "data": {
      "text/plain": [
       "Weekday Shopper    5894262\n",
       "Weekend Shopper    3396966\n",
       "Name: Shopper day, dtype: int64"
      ]
     },
     "execution_count": 38,
     "metadata": {},
     "output_type": "execute_result"
    }
   ],
   "source": [
    "df_high_act_customer_dept['Shopper day'].value_counts(dropna = False)"
   ]
  },
  {
   "cell_type": "code",
   "execution_count": 39,
   "id": "9ad6f13a",
   "metadata": {},
   "outputs": [
    {
     "data": {
      "text/html": [
       "<div>\n",
       "<style scoped>\n",
       "    .dataframe tbody tr th:only-of-type {\n",
       "        vertical-align: middle;\n",
       "    }\n",
       "\n",
       "    .dataframe tbody tr th {\n",
       "        vertical-align: top;\n",
       "    }\n",
       "\n",
       "    .dataframe thead th {\n",
       "        text-align: right;\n",
       "    }\n",
       "</style>\n",
       "<table border=\"1\" class=\"dataframe\">\n",
       "  <thead>\n",
       "    <tr style=\"text-align: right;\">\n",
       "      <th></th>\n",
       "      <th>order_id</th>\n",
       "      <th>order_number</th>\n",
       "      <th>orders_day_of_week</th>\n",
       "      <th>order_hour_of_day</th>\n",
       "      <th>days_since_last_order</th>\n",
       "      <th>product_name</th>\n",
       "      <th>Age</th>\n",
       "      <th>State</th>\n",
       "      <th>product_id</th>\n",
       "      <th>n_dependants</th>\n",
       "      <th>...</th>\n",
       "      <th>Gender</th>\n",
       "      <th>income</th>\n",
       "      <th>Region</th>\n",
       "      <th>age_group</th>\n",
       "      <th>income_group</th>\n",
       "      <th>department</th>\n",
       "      <th>dependants_group</th>\n",
       "      <th>family_type</th>\n",
       "      <th>Day</th>\n",
       "      <th>Shopper day</th>\n",
       "    </tr>\n",
       "  </thead>\n",
       "  <tbody>\n",
       "    <tr>\n",
       "      <th>0</th>\n",
       "      <td>2539329</td>\n",
       "      <td>1</td>\n",
       "      <td>2</td>\n",
       "      <td>8</td>\n",
       "      <td>NaN</td>\n",
       "      <td>Soda</td>\n",
       "      <td>31</td>\n",
       "      <td>Alabama</td>\n",
       "      <td>196</td>\n",
       "      <td>3</td>\n",
       "      <td>...</td>\n",
       "      <td>Female</td>\n",
       "      <td>40423</td>\n",
       "      <td>South</td>\n",
       "      <td>Young Adult: 18-35</td>\n",
       "      <td>Low Income</td>\n",
       "      <td>beverages</td>\n",
       "      <td>Parent</td>\n",
       "      <td>Married with children</td>\n",
       "      <td>Monday</td>\n",
       "      <td>Weekday Shopper</td>\n",
       "    </tr>\n",
       "    <tr>\n",
       "      <th>1</th>\n",
       "      <td>2254736</td>\n",
       "      <td>4</td>\n",
       "      <td>4</td>\n",
       "      <td>7</td>\n",
       "      <td>29.0</td>\n",
       "      <td>Soda</td>\n",
       "      <td>31</td>\n",
       "      <td>Alabama</td>\n",
       "      <td>196</td>\n",
       "      <td>3</td>\n",
       "      <td>...</td>\n",
       "      <td>Female</td>\n",
       "      <td>40423</td>\n",
       "      <td>South</td>\n",
       "      <td>Young Adult: 18-35</td>\n",
       "      <td>Low Income</td>\n",
       "      <td>beverages</td>\n",
       "      <td>Parent</td>\n",
       "      <td>Married with children</td>\n",
       "      <td>Wednesday</td>\n",
       "      <td>Weekday Shopper</td>\n",
       "    </tr>\n",
       "    <tr>\n",
       "      <th>2</th>\n",
       "      <td>431534</td>\n",
       "      <td>5</td>\n",
       "      <td>4</td>\n",
       "      <td>15</td>\n",
       "      <td>28.0</td>\n",
       "      <td>Soda</td>\n",
       "      <td>31</td>\n",
       "      <td>Alabama</td>\n",
       "      <td>196</td>\n",
       "      <td>3</td>\n",
       "      <td>...</td>\n",
       "      <td>Female</td>\n",
       "      <td>40423</td>\n",
       "      <td>South</td>\n",
       "      <td>Young Adult: 18-35</td>\n",
       "      <td>Low Income</td>\n",
       "      <td>beverages</td>\n",
       "      <td>Parent</td>\n",
       "      <td>Married with children</td>\n",
       "      <td>Wednesday</td>\n",
       "      <td>Weekday Shopper</td>\n",
       "    </tr>\n",
       "    <tr>\n",
       "      <th>3</th>\n",
       "      <td>3367565</td>\n",
       "      <td>6</td>\n",
       "      <td>2</td>\n",
       "      <td>7</td>\n",
       "      <td>19.0</td>\n",
       "      <td>Soda</td>\n",
       "      <td>31</td>\n",
       "      <td>Alabama</td>\n",
       "      <td>196</td>\n",
       "      <td>3</td>\n",
       "      <td>...</td>\n",
       "      <td>Female</td>\n",
       "      <td>40423</td>\n",
       "      <td>South</td>\n",
       "      <td>Young Adult: 18-35</td>\n",
       "      <td>Low Income</td>\n",
       "      <td>beverages</td>\n",
       "      <td>Parent</td>\n",
       "      <td>Married with children</td>\n",
       "      <td>Monday</td>\n",
       "      <td>Weekday Shopper</td>\n",
       "    </tr>\n",
       "    <tr>\n",
       "      <th>4</th>\n",
       "      <td>2295261</td>\n",
       "      <td>9</td>\n",
       "      <td>1</td>\n",
       "      <td>16</td>\n",
       "      <td>0.0</td>\n",
       "      <td>Zero Calorie Cola</td>\n",
       "      <td>31</td>\n",
       "      <td>Alabama</td>\n",
       "      <td>46149</td>\n",
       "      <td>3</td>\n",
       "      <td>...</td>\n",
       "      <td>Female</td>\n",
       "      <td>40423</td>\n",
       "      <td>South</td>\n",
       "      <td>Young Adult: 18-35</td>\n",
       "      <td>Low Income</td>\n",
       "      <td>beverages</td>\n",
       "      <td>Parent</td>\n",
       "      <td>Married with children</td>\n",
       "      <td>Sunday</td>\n",
       "      <td>Weekend Shopper</td>\n",
       "    </tr>\n",
       "  </tbody>\n",
       "</table>\n",
       "<p>5 rows × 29 columns</p>\n",
       "</div>"
      ],
      "text/plain": [
       "   order_id  order_number  orders_day_of_week  order_hour_of_day  \\\n",
       "0   2539329             1                   2                  8   \n",
       "1   2254736             4                   4                  7   \n",
       "2    431534             5                   4                 15   \n",
       "3   3367565             6                   2                  7   \n",
       "4   2295261             9                   1                 16   \n",
       "\n",
       "   days_since_last_order       product_name  Age    State  product_id  \\\n",
       "0                    NaN               Soda   31  Alabama         196   \n",
       "1                   29.0               Soda   31  Alabama         196   \n",
       "2                   28.0               Soda   31  Alabama         196   \n",
       "3                   19.0               Soda   31  Alabama         196   \n",
       "4                    0.0  Zero Calorie Cola   31  Alabama       46149   \n",
       "\n",
       "   n_dependants  ...  Gender  income Region           age_group income_group  \\\n",
       "0             3  ...  Female   40423  South  Young Adult: 18-35   Low Income   \n",
       "1             3  ...  Female   40423  South  Young Adult: 18-35   Low Income   \n",
       "2             3  ...  Female   40423  South  Young Adult: 18-35   Low Income   \n",
       "3             3  ...  Female   40423  South  Young Adult: 18-35   Low Income   \n",
       "4             3  ...  Female   40423  South  Young Adult: 18-35   Low Income   \n",
       "\n",
       "  department dependants_group            family_type        Day  \\\n",
       "0  beverages           Parent  Married with children     Monday   \n",
       "1  beverages           Parent  Married with children  Wednesday   \n",
       "2  beverages           Parent  Married with children  Wednesday   \n",
       "3  beverages           Parent  Married with children     Monday   \n",
       "4  beverages           Parent  Married with children     Sunday   \n",
       "\n",
       "       Shopper day  \n",
       "0  Weekday Shopper  \n",
       "1  Weekday Shopper  \n",
       "2  Weekday Shopper  \n",
       "3  Weekday Shopper  \n",
       "4  Weekend Shopper  \n",
       "\n",
       "[5 rows x 29 columns]"
      ]
     },
     "execution_count": 39,
     "metadata": {},
     "output_type": "execute_result"
    }
   ],
   "source": [
    "df_high_act_customer_dept.head()"
   ]
  },
  {
   "cell_type": "markdown",
   "id": "67b486a5",
   "metadata": {},
   "source": [
    "### Export data set for the next Step"
   ]
  },
  {
   "cell_type": "code",
   "execution_count": 40,
   "id": "9601e5f6",
   "metadata": {},
   "outputs": [],
   "source": [
    "df_high_act_customer_dept.to_pickle(os.path.join(path, '02 Data', 'Prepared Data', 'df_high_act_customer_dept_Step5.pkl'))"
   ]
  },
  {
   "cell_type": "code",
   "execution_count": null,
   "id": "14fc6df7",
   "metadata": {},
   "outputs": [],
   "source": []
  }
 ],
 "metadata": {
  "kernelspec": {
   "display_name": "Python 3 (ipykernel)",
   "language": "python",
   "name": "python3"
  },
  "language_info": {
   "codemirror_mode": {
    "name": "ipython",
    "version": 3
   },
   "file_extension": ".py",
   "mimetype": "text/x-python",
   "name": "python",
   "nbconvert_exporter": "python",
   "pygments_lexer": "ipython3",
   "version": "3.9.13"
  }
 },
 "nbformat": 4,
 "nbformat_minor": 5
}
