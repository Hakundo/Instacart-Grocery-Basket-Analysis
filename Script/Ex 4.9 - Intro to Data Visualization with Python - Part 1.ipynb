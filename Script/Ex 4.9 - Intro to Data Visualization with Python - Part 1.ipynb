{
 "cells": [
  {
   "cell_type": "markdown",
   "id": "eab63707",
   "metadata": {},
   "source": [
    "#  4.9: Intro to Data Visualization with Python - Part 1\n",
    "\n",
    "## Table of content:\n",
    "\n",
    "### Task 3 - Import your analysis libraries, as well as your new customer data set as a dataframe.\n",
    "\n",
    "### Task 4 - Wrangle the data so that it follows consistent logic; for example, rename columns with illogical names and drop columns that don’t add anything to your analysis\n",
    "\n",
    "### Task 5 - Complete the fundamental data quality and consistency checks you’ve learned throughout this Achievement; for example, check for and address missing values and duplicates, and convert any mixed-type data.\n",
    "\n",
    "### Task 6 - Combine your customer data with the rest of your prepared Instacart data. (Hint: Make sure the key columns are the same data type!)\n",
    "\n",
    "### Task 7 - Ensure your notebook contains logical titles, section headings, and descriptive code comments.\n",
    "\n",
    "### Task 8 - Export this new dataframe as a pickle file so you can continue to use it in the second part of this task."
   ]
  },
  {
   "cell_type": "markdown",
   "id": "9226a318",
   "metadata": {},
   "source": [
    "## Task 3\n",
    "\n",
    "Import your analysis libraries, as well as your new customer data set as a dataframe"
   ]
  },
  {
   "cell_type": "code",
   "execution_count": 1,
   "id": "7bd43c1b",
   "metadata": {},
   "outputs": [],
   "source": [
    "# Import libraries\n",
    "\n",
    "import pandas as pd\n",
    "import numpy as np\n",
    "import os\n",
    "import matplotlib.pyplot as plt\n",
    "import seaborn as sns\n",
    "import scipy"
   ]
  },
  {
   "cell_type": "code",
   "execution_count": 2,
   "id": "c38cd09c",
   "metadata": {},
   "outputs": [],
   "source": [
    "path = r'C:\\Users\\facun\\Desktop\\Data Analysis\\CF\\PYTHON\\Instacart Basket Analysis'"
   ]
  },
  {
   "cell_type": "code",
   "execution_count": 3,
   "id": "60219a98",
   "metadata": {},
   "outputs": [],
   "source": [
    "df_customer = pd.read_csv(os.path.join(path, '02 Data', 'Original Data', 'customers.csv'),index_col = False)"
   ]
  },
  {
   "cell_type": "code",
   "execution_count": null,
   "id": "74b1fd88",
   "metadata": {},
   "outputs": [],
   "source": []
  },
  {
   "cell_type": "markdown",
   "id": "dbd3c2f9",
   "metadata": {},
   "source": [
    "# Task 4\n",
    "\n",
    "Wrangle the data so that it follows consistent logic; for example, rename columns with illogical names and drop columns that don’t add anything to your analysis."
   ]
  },
  {
   "cell_type": "markdown",
   "id": "9ad874a8",
   "metadata": {},
   "source": [
    "### 1) Exploring dataframe"
   ]
  },
  {
   "cell_type": "code",
   "execution_count": 4,
   "id": "f24d7590",
   "metadata": {
    "scrolled": false
   },
   "outputs": [
    {
     "data": {
      "text/html": [
       "<div>\n",
       "<style scoped>\n",
       "    .dataframe tbody tr th:only-of-type {\n",
       "        vertical-align: middle;\n",
       "    }\n",
       "\n",
       "    .dataframe tbody tr th {\n",
       "        vertical-align: top;\n",
       "    }\n",
       "\n",
       "    .dataframe thead th {\n",
       "        text-align: right;\n",
       "    }\n",
       "</style>\n",
       "<table border=\"1\" class=\"dataframe\">\n",
       "  <thead>\n",
       "    <tr style=\"text-align: right;\">\n",
       "      <th></th>\n",
       "      <th>user_id</th>\n",
       "      <th>First Name</th>\n",
       "      <th>Surnam</th>\n",
       "      <th>Gender</th>\n",
       "      <th>STATE</th>\n",
       "      <th>Age</th>\n",
       "      <th>date_joined</th>\n",
       "      <th>n_dependants</th>\n",
       "      <th>fam_status</th>\n",
       "      <th>income</th>\n",
       "    </tr>\n",
       "  </thead>\n",
       "  <tbody>\n",
       "    <tr>\n",
       "      <th>0</th>\n",
       "      <td>26711</td>\n",
       "      <td>Deborah</td>\n",
       "      <td>Esquivel</td>\n",
       "      <td>Female</td>\n",
       "      <td>Missouri</td>\n",
       "      <td>48</td>\n",
       "      <td>1/1/2017</td>\n",
       "      <td>3</td>\n",
       "      <td>married</td>\n",
       "      <td>165665</td>\n",
       "    </tr>\n",
       "    <tr>\n",
       "      <th>1</th>\n",
       "      <td>33890</td>\n",
       "      <td>Patricia</td>\n",
       "      <td>Hart</td>\n",
       "      <td>Female</td>\n",
       "      <td>New Mexico</td>\n",
       "      <td>36</td>\n",
       "      <td>1/1/2017</td>\n",
       "      <td>0</td>\n",
       "      <td>single</td>\n",
       "      <td>59285</td>\n",
       "    </tr>\n",
       "    <tr>\n",
       "      <th>2</th>\n",
       "      <td>65803</td>\n",
       "      <td>Kenneth</td>\n",
       "      <td>Farley</td>\n",
       "      <td>Male</td>\n",
       "      <td>Idaho</td>\n",
       "      <td>35</td>\n",
       "      <td>1/1/2017</td>\n",
       "      <td>2</td>\n",
       "      <td>married</td>\n",
       "      <td>99568</td>\n",
       "    </tr>\n",
       "    <tr>\n",
       "      <th>3</th>\n",
       "      <td>125935</td>\n",
       "      <td>Michelle</td>\n",
       "      <td>Hicks</td>\n",
       "      <td>Female</td>\n",
       "      <td>Iowa</td>\n",
       "      <td>40</td>\n",
       "      <td>1/1/2017</td>\n",
       "      <td>0</td>\n",
       "      <td>single</td>\n",
       "      <td>42049</td>\n",
       "    </tr>\n",
       "    <tr>\n",
       "      <th>4</th>\n",
       "      <td>130797</td>\n",
       "      <td>Ann</td>\n",
       "      <td>Gilmore</td>\n",
       "      <td>Female</td>\n",
       "      <td>Maryland</td>\n",
       "      <td>26</td>\n",
       "      <td>1/1/2017</td>\n",
       "      <td>1</td>\n",
       "      <td>married</td>\n",
       "      <td>40374</td>\n",
       "    </tr>\n",
       "    <tr>\n",
       "      <th>...</th>\n",
       "      <td>...</td>\n",
       "      <td>...</td>\n",
       "      <td>...</td>\n",
       "      <td>...</td>\n",
       "      <td>...</td>\n",
       "      <td>...</td>\n",
       "      <td>...</td>\n",
       "      <td>...</td>\n",
       "      <td>...</td>\n",
       "      <td>...</td>\n",
       "    </tr>\n",
       "    <tr>\n",
       "      <th>95</th>\n",
       "      <td>86389</td>\n",
       "      <td>Stephen</td>\n",
       "      <td>Murillo</td>\n",
       "      <td>Male</td>\n",
       "      <td>Vermont</td>\n",
       "      <td>69</td>\n",
       "      <td>1/1/2017</td>\n",
       "      <td>3</td>\n",
       "      <td>married</td>\n",
       "      <td>66800</td>\n",
       "    </tr>\n",
       "    <tr>\n",
       "      <th>96</th>\n",
       "      <td>102956</td>\n",
       "      <td>Kathy</td>\n",
       "      <td>Mitchell</td>\n",
       "      <td>Female</td>\n",
       "      <td>Missouri</td>\n",
       "      <td>78</td>\n",
       "      <td>1/1/2017</td>\n",
       "      <td>1</td>\n",
       "      <td>married</td>\n",
       "      <td>96314</td>\n",
       "    </tr>\n",
       "    <tr>\n",
       "      <th>97</th>\n",
       "      <td>180919</td>\n",
       "      <td>Jacqueline</td>\n",
       "      <td>Roach</td>\n",
       "      <td>Female</td>\n",
       "      <td>Nebraska</td>\n",
       "      <td>21</td>\n",
       "      <td>1/1/2017</td>\n",
       "      <td>3</td>\n",
       "      <td>living with parents and siblings</td>\n",
       "      <td>56831</td>\n",
       "    </tr>\n",
       "    <tr>\n",
       "      <th>98</th>\n",
       "      <td>74155</td>\n",
       "      <td>Karen</td>\n",
       "      <td>Berg</td>\n",
       "      <td>Female</td>\n",
       "      <td>Alabama</td>\n",
       "      <td>33</td>\n",
       "      <td>1/1/2017</td>\n",
       "      <td>3</td>\n",
       "      <td>married</td>\n",
       "      <td>95285</td>\n",
       "    </tr>\n",
       "    <tr>\n",
       "      <th>99</th>\n",
       "      <td>96166</td>\n",
       "      <td>NaN</td>\n",
       "      <td>Oconnor</td>\n",
       "      <td>Male</td>\n",
       "      <td>Oklahoma</td>\n",
       "      <td>51</td>\n",
       "      <td>1/1/2017</td>\n",
       "      <td>1</td>\n",
       "      <td>married</td>\n",
       "      <td>155673</td>\n",
       "    </tr>\n",
       "  </tbody>\n",
       "</table>\n",
       "<p>100 rows × 10 columns</p>\n",
       "</div>"
      ],
      "text/plain": [
       "    user_id  First Name    Surnam  Gender       STATE  Age date_joined  \\\n",
       "0     26711     Deborah  Esquivel  Female    Missouri   48    1/1/2017   \n",
       "1     33890    Patricia      Hart  Female  New Mexico   36    1/1/2017   \n",
       "2     65803     Kenneth    Farley    Male       Idaho   35    1/1/2017   \n",
       "3    125935    Michelle     Hicks  Female        Iowa   40    1/1/2017   \n",
       "4    130797         Ann   Gilmore  Female    Maryland   26    1/1/2017   \n",
       "..      ...         ...       ...     ...         ...  ...         ...   \n",
       "95    86389     Stephen   Murillo    Male     Vermont   69    1/1/2017   \n",
       "96   102956       Kathy  Mitchell  Female    Missouri   78    1/1/2017   \n",
       "97   180919  Jacqueline     Roach  Female    Nebraska   21    1/1/2017   \n",
       "98    74155       Karen      Berg  Female     Alabama   33    1/1/2017   \n",
       "99    96166         NaN   Oconnor    Male    Oklahoma   51    1/1/2017   \n",
       "\n",
       "    n_dependants                        fam_status  income  \n",
       "0              3                           married  165665  \n",
       "1              0                            single   59285  \n",
       "2              2                           married   99568  \n",
       "3              0                            single   42049  \n",
       "4              1                           married   40374  \n",
       "..           ...                               ...     ...  \n",
       "95             3                           married   66800  \n",
       "96             1                           married   96314  \n",
       "97             3  living with parents and siblings   56831  \n",
       "98             3                           married   95285  \n",
       "99             1                           married  155673  \n",
       "\n",
       "[100 rows x 10 columns]"
      ]
     },
     "execution_count": 4,
     "metadata": {},
     "output_type": "execute_result"
    }
   ],
   "source": [
    "df_customer.head(100)"
   ]
  },
  {
   "cell_type": "markdown",
   "id": "a7c70486",
   "metadata": {},
   "source": [
    "### 2) Dataframe Statistics"
   ]
  },
  {
   "cell_type": "code",
   "execution_count": 5,
   "id": "7801ef42",
   "metadata": {},
   "outputs": [
    {
     "data": {
      "text/html": [
       "<div>\n",
       "<style scoped>\n",
       "    .dataframe tbody tr th:only-of-type {\n",
       "        vertical-align: middle;\n",
       "    }\n",
       "\n",
       "    .dataframe tbody tr th {\n",
       "        vertical-align: top;\n",
       "    }\n",
       "\n",
       "    .dataframe thead th {\n",
       "        text-align: right;\n",
       "    }\n",
       "</style>\n",
       "<table border=\"1\" class=\"dataframe\">\n",
       "  <thead>\n",
       "    <tr style=\"text-align: right;\">\n",
       "      <th></th>\n",
       "      <th>user_id</th>\n",
       "      <th>Age</th>\n",
       "      <th>n_dependants</th>\n",
       "      <th>income</th>\n",
       "    </tr>\n",
       "  </thead>\n",
       "  <tbody>\n",
       "    <tr>\n",
       "      <th>count</th>\n",
       "      <td>206209.000000</td>\n",
       "      <td>206209.000000</td>\n",
       "      <td>206209.000000</td>\n",
       "      <td>206209.000000</td>\n",
       "    </tr>\n",
       "    <tr>\n",
       "      <th>mean</th>\n",
       "      <td>103105.000000</td>\n",
       "      <td>49.501646</td>\n",
       "      <td>1.499823</td>\n",
       "      <td>94632.852548</td>\n",
       "    </tr>\n",
       "    <tr>\n",
       "      <th>std</th>\n",
       "      <td>59527.555167</td>\n",
       "      <td>18.480962</td>\n",
       "      <td>1.118433</td>\n",
       "      <td>42473.786988</td>\n",
       "    </tr>\n",
       "    <tr>\n",
       "      <th>min</th>\n",
       "      <td>1.000000</td>\n",
       "      <td>18.000000</td>\n",
       "      <td>0.000000</td>\n",
       "      <td>25903.000000</td>\n",
       "    </tr>\n",
       "    <tr>\n",
       "      <th>25%</th>\n",
       "      <td>51553.000000</td>\n",
       "      <td>33.000000</td>\n",
       "      <td>0.000000</td>\n",
       "      <td>59874.000000</td>\n",
       "    </tr>\n",
       "    <tr>\n",
       "      <th>50%</th>\n",
       "      <td>103105.000000</td>\n",
       "      <td>49.000000</td>\n",
       "      <td>1.000000</td>\n",
       "      <td>93547.000000</td>\n",
       "    </tr>\n",
       "    <tr>\n",
       "      <th>75%</th>\n",
       "      <td>154657.000000</td>\n",
       "      <td>66.000000</td>\n",
       "      <td>3.000000</td>\n",
       "      <td>124244.000000</td>\n",
       "    </tr>\n",
       "    <tr>\n",
       "      <th>max</th>\n",
       "      <td>206209.000000</td>\n",
       "      <td>81.000000</td>\n",
       "      <td>3.000000</td>\n",
       "      <td>593901.000000</td>\n",
       "    </tr>\n",
       "  </tbody>\n",
       "</table>\n",
       "</div>"
      ],
      "text/plain": [
       "             user_id            Age   n_dependants         income\n",
       "count  206209.000000  206209.000000  206209.000000  206209.000000\n",
       "mean   103105.000000      49.501646       1.499823   94632.852548\n",
       "std     59527.555167      18.480962       1.118433   42473.786988\n",
       "min         1.000000      18.000000       0.000000   25903.000000\n",
       "25%     51553.000000      33.000000       0.000000   59874.000000\n",
       "50%    103105.000000      49.000000       1.000000   93547.000000\n",
       "75%    154657.000000      66.000000       3.000000  124244.000000\n",
       "max    206209.000000      81.000000       3.000000  593901.000000"
      ]
     },
     "execution_count": 5,
     "metadata": {},
     "output_type": "execute_result"
    }
   ],
   "source": [
    "df_customer.describe()"
   ]
  },
  {
   "cell_type": "markdown",
   "id": "a89903eb",
   "metadata": {},
   "source": [
    "### 3) Checking column names"
   ]
  },
  {
   "cell_type": "code",
   "execution_count": 6,
   "id": "4ecab5ad",
   "metadata": {
    "scrolled": false
   },
   "outputs": [
    {
     "data": {
      "text/plain": [
       "Index(['user_id', 'First Name', 'Surnam', 'Gender', 'STATE', 'Age',\n",
       "       'date_joined', 'n_dependants', 'fam_status', 'income'],\n",
       "      dtype='object')"
      ]
     },
     "execution_count": 6,
     "metadata": {},
     "output_type": "execute_result"
    }
   ],
   "source": [
    "df_customer.columns"
   ]
  },
  {
   "cell_type": "markdown",
   "id": "433a2bd5",
   "metadata": {},
   "source": [
    "#### - Renaming Columns"
   ]
  },
  {
   "cell_type": "code",
   "execution_count": 7,
   "id": "4bf6e165",
   "metadata": {},
   "outputs": [],
   "source": [
    "df_customer.rename(columns = {'First Name' : 'First_Name'}, inplace = True) \n",
    "df_customer.rename(columns = {'Surnam' : 'Last_Name'}, inplace = True)\n",
    "df_customer.rename(columns = {'STATE' : 'State'}, inplace = True)\n"
   ]
  },
  {
   "cell_type": "markdown",
   "id": "c310de43",
   "metadata": {},
   "source": [
    "#### - Confirm renaming of Columns"
   ]
  },
  {
   "cell_type": "code",
   "execution_count": 8,
   "id": "3e163d98",
   "metadata": {},
   "outputs": [
    {
     "data": {
      "text/plain": [
       "Index(['user_id', 'First_Name', 'Last_Name', 'Gender', 'State', 'Age',\n",
       "       'date_joined', 'n_dependants', 'fam_status', 'income'],\n",
       "      dtype='object')"
      ]
     },
     "execution_count": 8,
     "metadata": {},
     "output_type": "execute_result"
    }
   ],
   "source": [
    "df_customer.columns"
   ]
  },
  {
   "cell_type": "markdown",
   "id": "4a728777",
   "metadata": {},
   "source": [
    "### 4) Dataframe information"
   ]
  },
  {
   "cell_type": "code",
   "execution_count": 9,
   "id": "371ae80c",
   "metadata": {
    "scrolled": false
   },
   "outputs": [
    {
     "name": "stdout",
     "output_type": "stream",
     "text": [
      "<class 'pandas.core.frame.DataFrame'>\n",
      "RangeIndex: 206209 entries, 0 to 206208\n",
      "Data columns (total 10 columns):\n",
      " #   Column        Non-Null Count   Dtype \n",
      "---  ------        --------------   ----- \n",
      " 0   user_id       206209 non-null  int64 \n",
      " 1   First_Name    194950 non-null  object\n",
      " 2   Last_Name     206209 non-null  object\n",
      " 3   Gender        206209 non-null  object\n",
      " 4   State         206209 non-null  object\n",
      " 5   Age           206209 non-null  int64 \n",
      " 6   date_joined   206209 non-null  object\n",
      " 7   n_dependants  206209 non-null  int64 \n",
      " 8   fam_status    206209 non-null  object\n",
      " 9   income        206209 non-null  int64 \n",
      "dtypes: int64(4), object(6)\n",
      "memory usage: 15.7+ MB\n"
     ]
    }
   ],
   "source": [
    "df_customer.info()"
   ]
  },
  {
   "cell_type": "markdown",
   "id": "1d8a48ea",
   "metadata": {},
   "source": [
    "#### - Observation:\n",
    "\n",
    "The column \"First Name\" has less number of values than the rest of the columns, mean that we have 11.259 empty cells\n",
    "\n"
   ]
  },
  {
   "cell_type": "code",
   "execution_count": 10,
   "id": "2ca5388f",
   "metadata": {
    "scrolled": false
   },
   "outputs": [
    {
     "data": {
      "text/plain": [
       "NaN        11259\n",
       "Marilyn     2213\n",
       "Barbara     2154\n",
       "Todd        2113\n",
       "Jeremy      2104\n",
       "           ...  \n",
       "Merry        197\n",
       "Eugene       197\n",
       "Garry        191\n",
       "Ned          186\n",
       "David        186\n",
       "Name: First_Name, Length: 208, dtype: int64"
      ]
     },
     "execution_count": 10,
     "metadata": {},
     "output_type": "execute_result"
    }
   ],
   "source": [
    "# Checks the assignated column data frequency\n",
    "\n",
    "df_customer['First_Name'].value_counts(dropna = False)"
   ]
  },
  {
   "cell_type": "code",
   "execution_count": null,
   "id": "66a794a6",
   "metadata": {},
   "outputs": [],
   "source": []
  },
  {
   "cell_type": "markdown",
   "id": "871893f6",
   "metadata": {},
   "source": [
    "#### - Changing data types"
   ]
  },
  {
   "cell_type": "code",
   "execution_count": 11,
   "id": "fa4b01ee",
   "metadata": {},
   "outputs": [],
   "source": [
    "# Changing data type of the column \"user_id\" as it should not be taking it as integer, should be string(object)\n",
    "\n",
    "df_customer['user_id'] = df_customer['user_id'].astype('str')"
   ]
  },
  {
   "cell_type": "code",
   "execution_count": 12,
   "id": "7c94d8cd",
   "metadata": {},
   "outputs": [
    {
     "data": {
      "text/plain": [
       "dtype('O')"
      ]
     },
     "execution_count": 12,
     "metadata": {},
     "output_type": "execute_result"
    }
   ],
   "source": [
    "# Check the data type of the column was modified \n",
    "\n",
    "df_customer['user_id'].dtype"
   ]
  },
  {
   "cell_type": "markdown",
   "id": "9c88896a",
   "metadata": {},
   "source": [
    "Now we run the Statistics again and function won't consider **user_id** as a numerical value"
   ]
  },
  {
   "cell_type": "code",
   "execution_count": 13,
   "id": "b6dfffc4",
   "metadata": {
    "scrolled": true
   },
   "outputs": [
    {
     "data": {
      "text/html": [
       "<div>\n",
       "<style scoped>\n",
       "    .dataframe tbody tr th:only-of-type {\n",
       "        vertical-align: middle;\n",
       "    }\n",
       "\n",
       "    .dataframe tbody tr th {\n",
       "        vertical-align: top;\n",
       "    }\n",
       "\n",
       "    .dataframe thead th {\n",
       "        text-align: right;\n",
       "    }\n",
       "</style>\n",
       "<table border=\"1\" class=\"dataframe\">\n",
       "  <thead>\n",
       "    <tr style=\"text-align: right;\">\n",
       "      <th></th>\n",
       "      <th>Age</th>\n",
       "      <th>n_dependants</th>\n",
       "      <th>income</th>\n",
       "    </tr>\n",
       "  </thead>\n",
       "  <tbody>\n",
       "    <tr>\n",
       "      <th>count</th>\n",
       "      <td>206209.000000</td>\n",
       "      <td>206209.000000</td>\n",
       "      <td>206209.000000</td>\n",
       "    </tr>\n",
       "    <tr>\n",
       "      <th>mean</th>\n",
       "      <td>49.501646</td>\n",
       "      <td>1.499823</td>\n",
       "      <td>94632.852548</td>\n",
       "    </tr>\n",
       "    <tr>\n",
       "      <th>std</th>\n",
       "      <td>18.480962</td>\n",
       "      <td>1.118433</td>\n",
       "      <td>42473.786988</td>\n",
       "    </tr>\n",
       "    <tr>\n",
       "      <th>min</th>\n",
       "      <td>18.000000</td>\n",
       "      <td>0.000000</td>\n",
       "      <td>25903.000000</td>\n",
       "    </tr>\n",
       "    <tr>\n",
       "      <th>25%</th>\n",
       "      <td>33.000000</td>\n",
       "      <td>0.000000</td>\n",
       "      <td>59874.000000</td>\n",
       "    </tr>\n",
       "    <tr>\n",
       "      <th>50%</th>\n",
       "      <td>49.000000</td>\n",
       "      <td>1.000000</td>\n",
       "      <td>93547.000000</td>\n",
       "    </tr>\n",
       "    <tr>\n",
       "      <th>75%</th>\n",
       "      <td>66.000000</td>\n",
       "      <td>3.000000</td>\n",
       "      <td>124244.000000</td>\n",
       "    </tr>\n",
       "    <tr>\n",
       "      <th>max</th>\n",
       "      <td>81.000000</td>\n",
       "      <td>3.000000</td>\n",
       "      <td>593901.000000</td>\n",
       "    </tr>\n",
       "  </tbody>\n",
       "</table>\n",
       "</div>"
      ],
      "text/plain": [
       "                 Age   n_dependants         income\n",
       "count  206209.000000  206209.000000  206209.000000\n",
       "mean       49.501646       1.499823   94632.852548\n",
       "std        18.480962       1.118433   42473.786988\n",
       "min        18.000000       0.000000   25903.000000\n",
       "25%        33.000000       0.000000   59874.000000\n",
       "50%        49.000000       1.000000   93547.000000\n",
       "75%        66.000000       3.000000  124244.000000\n",
       "max        81.000000       3.000000  593901.000000"
      ]
     },
     "execution_count": 13,
     "metadata": {},
     "output_type": "execute_result"
    }
   ],
   "source": [
    "df_customer.describe()"
   ]
  },
  {
   "cell_type": "markdown",
   "id": "d76c6944",
   "metadata": {},
   "source": [
    "#### 5) Checking Dataframe Shape "
   ]
  },
  {
   "cell_type": "code",
   "execution_count": 14,
   "id": "c3e8cc5c",
   "metadata": {
    "scrolled": true
   },
   "outputs": [
    {
     "data": {
      "text/plain": [
       "(206209, 10)"
      ]
     },
     "execution_count": 14,
     "metadata": {},
     "output_type": "execute_result"
    }
   ],
   "source": [
    "df_customer.shape"
   ]
  },
  {
   "cell_type": "code",
   "execution_count": null,
   "id": "d5611d12",
   "metadata": {},
   "outputs": [],
   "source": []
  },
  {
   "cell_type": "markdown",
   "id": "46b95435",
   "metadata": {},
   "source": [
    "## Task 5\n",
    "\n",
    "Complete the fundamental data quality and consistency checks you’ve learned throughout this Achievement; for example, check for and address missing values and duplicates, and convert any mixed-type data."
   ]
  },
  {
   "cell_type": "markdown",
   "id": "7bd6dade",
   "metadata": {},
   "source": [
    "### 1) Finding and Addressing Mixed Data Types"
   ]
  },
  {
   "cell_type": "code",
   "execution_count": 15,
   "id": "a87663db",
   "metadata": {},
   "outputs": [
    {
     "name": "stdout",
     "output_type": "stream",
     "text": [
      "First_Name\n"
     ]
    }
   ],
   "source": [
    "for col in df_customer.columns.tolist():\n",
    "    weird = (df_customer[[col]].applymap(type) != df_customer[[col]].iloc[0].apply(type)).any(axis = 1)\n",
    "    if len (df_customer[weird]) > 0:\n",
    "        print(col)"
   ]
  },
  {
   "cell_type": "markdown",
   "id": "8c176e4b",
   "metadata": {},
   "source": [
    "#### Answer: \n",
    "\n",
    "I found that the **First_Name** column has Mixed Data Types"
   ]
  },
  {
   "cell_type": "markdown",
   "id": "faf09f32",
   "metadata": {},
   "source": [
    "- Fixing columns with **Mixed Data Types**"
   ]
  },
  {
   "cell_type": "markdown",
   "id": "7c0ccadd",
   "metadata": {},
   "source": [
    "### 2) Finding Missing Values"
   ]
  },
  {
   "cell_type": "code",
   "execution_count": 16,
   "id": "50799479",
   "metadata": {
    "scrolled": false
   },
   "outputs": [
    {
     "data": {
      "text/plain": [
       "user_id             0\n",
       "First_Name      11259\n",
       "Last_Name           0\n",
       "Gender              0\n",
       "State               0\n",
       "Age                 0\n",
       "date_joined         0\n",
       "n_dependants        0\n",
       "fam_status          0\n",
       "income              0\n",
       "dtype: int64"
      ]
     },
     "execution_count": 16,
     "metadata": {},
     "output_type": "execute_result"
    }
   ],
   "source": [
    "# Checks for missing observations\n",
    "\n",
    "df_customer.isnull().sum()"
   ]
  },
  {
   "cell_type": "markdown",
   "id": "2ac900bf",
   "metadata": {},
   "source": [
    "#### Answer:\n",
    "\n",
    "We found that the column \"First_Name\" has missing values which will not be filled as there is no way to find the names unless the custome can provide us with a informtion to do it. Also, we can not delete the column as those rows still can have valued information."
   ]
  },
  {
   "cell_type": "markdown",
   "id": "f3bc871a",
   "metadata": {},
   "source": [
    "We will change the Data Type of the **\"First_Name\"** column because it has integer datatype **0** because of the **null values** to String. "
   ]
  },
  {
   "cell_type": "code",
   "execution_count": 17,
   "id": "56abc479",
   "metadata": {},
   "outputs": [],
   "source": [
    "#Change the datatype of First Name to a String\n",
    "df_customer['First_Name'] = df_customer['First_Name'].astype('str')"
   ]
  },
  {
   "cell_type": "code",
   "execution_count": 18,
   "id": "2a5a9ef7",
   "metadata": {},
   "outputs": [
    {
     "data": {
      "text/plain": [
       "user_id         0\n",
       "First_Name      0\n",
       "Last_Name       0\n",
       "Gender          0\n",
       "State           0\n",
       "Age             0\n",
       "date_joined     0\n",
       "n_dependants    0\n",
       "fam_status      0\n",
       "income          0\n",
       "dtype: int64"
      ]
     },
     "execution_count": 18,
     "metadata": {},
     "output_type": "execute_result"
    }
   ],
   "source": [
    "# Checks for the modification success\n",
    "\n",
    "df_customer.isnull().sum()"
   ]
  },
  {
   "cell_type": "markdown",
   "id": "5096c3f2",
   "metadata": {},
   "source": [
    "### 3) Finding Duplicates"
   ]
  },
  {
   "cell_type": "code",
   "execution_count": 19,
   "id": "03e85073",
   "metadata": {},
   "outputs": [],
   "source": [
    "df_dups = df_customer[df_customer.duplicated()]"
   ]
  },
  {
   "cell_type": "code",
   "execution_count": 20,
   "id": "ba4c2311",
   "metadata": {},
   "outputs": [
    {
     "data": {
      "text/html": [
       "<div>\n",
       "<style scoped>\n",
       "    .dataframe tbody tr th:only-of-type {\n",
       "        vertical-align: middle;\n",
       "    }\n",
       "\n",
       "    .dataframe tbody tr th {\n",
       "        vertical-align: top;\n",
       "    }\n",
       "\n",
       "    .dataframe thead th {\n",
       "        text-align: right;\n",
       "    }\n",
       "</style>\n",
       "<table border=\"1\" class=\"dataframe\">\n",
       "  <thead>\n",
       "    <tr style=\"text-align: right;\">\n",
       "      <th></th>\n",
       "      <th>user_id</th>\n",
       "      <th>First_Name</th>\n",
       "      <th>Last_Name</th>\n",
       "      <th>Gender</th>\n",
       "      <th>State</th>\n",
       "      <th>Age</th>\n",
       "      <th>date_joined</th>\n",
       "      <th>n_dependants</th>\n",
       "      <th>fam_status</th>\n",
       "      <th>income</th>\n",
       "    </tr>\n",
       "  </thead>\n",
       "  <tbody>\n",
       "  </tbody>\n",
       "</table>\n",
       "</div>"
      ],
      "text/plain": [
       "Empty DataFrame\n",
       "Columns: [user_id, First_Name, Last_Name, Gender, State, Age, date_joined, n_dependants, fam_status, income]\n",
       "Index: []"
      ]
     },
     "execution_count": 20,
     "metadata": {},
     "output_type": "execute_result"
    }
   ],
   "source": [
    "df_dups"
   ]
  },
  {
   "cell_type": "markdown",
   "id": "85232cda",
   "metadata": {},
   "source": [
    "## Task 6\n",
    "\n",
    "Combine your customer data with the rest of your prepared Instacart data. (Hint: Make sure the key columns are the same data type!"
   ]
  },
  {
   "cell_type": "markdown",
   "id": "2e2b06df",
   "metadata": {},
   "source": [
    "#### Importing \"ords_prods_merge\" dataframe"
   ]
  },
  {
   "cell_type": "code",
   "execution_count": 21,
   "id": "c09bdae6",
   "metadata": {},
   "outputs": [],
   "source": [
    "df_orders_prods_merge = pd.read_pickle(os.path.join(path, '02 Data', 'Prepared Data', 'orders_prods_merge.pkl'))"
   ]
  },
  {
   "cell_type": "markdown",
   "id": "e6a43810",
   "metadata": {},
   "source": [
    "#### \"orders_prods_merge\" dataframe information"
   ]
  },
  {
   "cell_type": "code",
   "execution_count": 22,
   "id": "fbadbdb4",
   "metadata": {
    "scrolled": false
   },
   "outputs": [
    {
     "name": "stdout",
     "output_type": "stream",
     "text": [
      "<class 'pandas.core.frame.DataFrame'>\n",
      "Int64Index: 32406041 entries, 0 to 32406040\n",
      "Data columns (total 23 columns):\n",
      " #   Column                        Dtype   \n",
      "---  ------                        -----   \n",
      " 0   order_id                      int64   \n",
      " 1   user_id                       int64   \n",
      " 2   order_number                  int64   \n",
      " 3   orders_day_of_week            int64   \n",
      " 4   order_hour_of_day             int64   \n",
      " 5   days_since_last_order         float64 \n",
      " 6   product_id                    int64   \n",
      " 7   add_to_cart_order             int64   \n",
      " 8   reordered                     int64   \n",
      " 9   product_name                  object  \n",
      " 10  aisle_id                      int64   \n",
      " 11  department_id                 int64   \n",
      " 12  prices                        float64 \n",
      " 13  _merge                        category\n",
      " 14  price_range_loc               object  \n",
      " 15  businest_day                  object  \n",
      " 16  businest_period_of_day        object  \n",
      " 17  max_order                     int64   \n",
      " 18  loyalty_flag                  object  \n",
      " 19  average_price                 float64 \n",
      " 20  spending_flag                 object  \n",
      " 21  median_days_since_last_order  float64 \n",
      " 22  order_frequency_flag          object  \n",
      "dtypes: category(1), float64(4), int64(11), object(7)\n",
      "memory usage: 5.6+ GB\n"
     ]
    }
   ],
   "source": [
    "df_orders_prods_merge.info()"
   ]
  },
  {
   "cell_type": "code",
   "execution_count": 23,
   "id": "226ddb67",
   "metadata": {
    "scrolled": true
   },
   "outputs": [
    {
     "data": {
      "text/html": [
       "<div>\n",
       "<style scoped>\n",
       "    .dataframe tbody tr th:only-of-type {\n",
       "        vertical-align: middle;\n",
       "    }\n",
       "\n",
       "    .dataframe tbody tr th {\n",
       "        vertical-align: top;\n",
       "    }\n",
       "\n",
       "    .dataframe thead th {\n",
       "        text-align: right;\n",
       "    }\n",
       "</style>\n",
       "<table border=\"1\" class=\"dataframe\">\n",
       "  <thead>\n",
       "    <tr style=\"text-align: right;\">\n",
       "      <th></th>\n",
       "      <th>order_id</th>\n",
       "      <th>user_id</th>\n",
       "      <th>order_number</th>\n",
       "      <th>orders_day_of_week</th>\n",
       "      <th>order_hour_of_day</th>\n",
       "      <th>days_since_last_order</th>\n",
       "      <th>product_id</th>\n",
       "      <th>add_to_cart_order</th>\n",
       "      <th>reordered</th>\n",
       "      <th>product_name</th>\n",
       "      <th>...</th>\n",
       "      <th>_merge</th>\n",
       "      <th>price_range_loc</th>\n",
       "      <th>businest_day</th>\n",
       "      <th>businest_period_of_day</th>\n",
       "      <th>max_order</th>\n",
       "      <th>loyalty_flag</th>\n",
       "      <th>average_price</th>\n",
       "      <th>spending_flag</th>\n",
       "      <th>median_days_since_last_order</th>\n",
       "      <th>order_frequency_flag</th>\n",
       "    </tr>\n",
       "  </thead>\n",
       "  <tbody>\n",
       "    <tr>\n",
       "      <th>0</th>\n",
       "      <td>2539329</td>\n",
       "      <td>1</td>\n",
       "      <td>1</td>\n",
       "      <td>2</td>\n",
       "      <td>8</td>\n",
       "      <td>NaN</td>\n",
       "      <td>196</td>\n",
       "      <td>1</td>\n",
       "      <td>0</td>\n",
       "      <td>Soda</td>\n",
       "      <td>...</td>\n",
       "      <td>both</td>\n",
       "      <td>Mid-range product</td>\n",
       "      <td>Regularly busy</td>\n",
       "      <td>Average orders</td>\n",
       "      <td>10</td>\n",
       "      <td>New customer</td>\n",
       "      <td>6.37</td>\n",
       "      <td>Low_spender</td>\n",
       "      <td>20.5</td>\n",
       "      <td>Non-frequent customer</td>\n",
       "    </tr>\n",
       "    <tr>\n",
       "      <th>1</th>\n",
       "      <td>2398795</td>\n",
       "      <td>1</td>\n",
       "      <td>2</td>\n",
       "      <td>3</td>\n",
       "      <td>7</td>\n",
       "      <td>15.0</td>\n",
       "      <td>196</td>\n",
       "      <td>1</td>\n",
       "      <td>1</td>\n",
       "      <td>Soda</td>\n",
       "      <td>...</td>\n",
       "      <td>both</td>\n",
       "      <td>Mid-range product</td>\n",
       "      <td>Least busy</td>\n",
       "      <td>Average orders</td>\n",
       "      <td>10</td>\n",
       "      <td>New customer</td>\n",
       "      <td>6.37</td>\n",
       "      <td>Low_spender</td>\n",
       "      <td>20.5</td>\n",
       "      <td>Non-frequent customer</td>\n",
       "    </tr>\n",
       "    <tr>\n",
       "      <th>2</th>\n",
       "      <td>473747</td>\n",
       "      <td>1</td>\n",
       "      <td>3</td>\n",
       "      <td>3</td>\n",
       "      <td>12</td>\n",
       "      <td>21.0</td>\n",
       "      <td>196</td>\n",
       "      <td>1</td>\n",
       "      <td>1</td>\n",
       "      <td>Soda</td>\n",
       "      <td>...</td>\n",
       "      <td>both</td>\n",
       "      <td>Mid-range product</td>\n",
       "      <td>Least busy</td>\n",
       "      <td>Most orders</td>\n",
       "      <td>10</td>\n",
       "      <td>New customer</td>\n",
       "      <td>6.37</td>\n",
       "      <td>Low_spender</td>\n",
       "      <td>20.5</td>\n",
       "      <td>Non-frequent customer</td>\n",
       "    </tr>\n",
       "    <tr>\n",
       "      <th>3</th>\n",
       "      <td>2254736</td>\n",
       "      <td>1</td>\n",
       "      <td>4</td>\n",
       "      <td>4</td>\n",
       "      <td>7</td>\n",
       "      <td>29.0</td>\n",
       "      <td>196</td>\n",
       "      <td>1</td>\n",
       "      <td>1</td>\n",
       "      <td>Soda</td>\n",
       "      <td>...</td>\n",
       "      <td>both</td>\n",
       "      <td>Mid-range product</td>\n",
       "      <td>Least busy</td>\n",
       "      <td>Average orders</td>\n",
       "      <td>10</td>\n",
       "      <td>New customer</td>\n",
       "      <td>6.37</td>\n",
       "      <td>Low_spender</td>\n",
       "      <td>20.5</td>\n",
       "      <td>Non-frequent customer</td>\n",
       "    </tr>\n",
       "    <tr>\n",
       "      <th>4</th>\n",
       "      <td>431534</td>\n",
       "      <td>1</td>\n",
       "      <td>5</td>\n",
       "      <td>4</td>\n",
       "      <td>15</td>\n",
       "      <td>28.0</td>\n",
       "      <td>196</td>\n",
       "      <td>1</td>\n",
       "      <td>1</td>\n",
       "      <td>Soda</td>\n",
       "      <td>...</td>\n",
       "      <td>both</td>\n",
       "      <td>Mid-range product</td>\n",
       "      <td>Least busy</td>\n",
       "      <td>Most orders</td>\n",
       "      <td>10</td>\n",
       "      <td>New customer</td>\n",
       "      <td>6.37</td>\n",
       "      <td>Low_spender</td>\n",
       "      <td>20.5</td>\n",
       "      <td>Non-frequent customer</td>\n",
       "    </tr>\n",
       "  </tbody>\n",
       "</table>\n",
       "<p>5 rows × 23 columns</p>\n",
       "</div>"
      ],
      "text/plain": [
       "   order_id  user_id  order_number  orders_day_of_week  order_hour_of_day  \\\n",
       "0   2539329        1             1                   2                  8   \n",
       "1   2398795        1             2                   3                  7   \n",
       "2    473747        1             3                   3                 12   \n",
       "3   2254736        1             4                   4                  7   \n",
       "4    431534        1             5                   4                 15   \n",
       "\n",
       "   days_since_last_order  product_id  add_to_cart_order  reordered  \\\n",
       "0                    NaN         196                  1          0   \n",
       "1                   15.0         196                  1          1   \n",
       "2                   21.0         196                  1          1   \n",
       "3                   29.0         196                  1          1   \n",
       "4                   28.0         196                  1          1   \n",
       "\n",
       "  product_name  ...  _merge    price_range_loc    businest_day  \\\n",
       "0         Soda  ...    both  Mid-range product  Regularly busy   \n",
       "1         Soda  ...    both  Mid-range product      Least busy   \n",
       "2         Soda  ...    both  Mid-range product      Least busy   \n",
       "3         Soda  ...    both  Mid-range product      Least busy   \n",
       "4         Soda  ...    both  Mid-range product      Least busy   \n",
       "\n",
       "  businest_period_of_day max_order  loyalty_flag average_price  spending_flag  \\\n",
       "0         Average orders        10  New customer          6.37    Low_spender   \n",
       "1         Average orders        10  New customer          6.37    Low_spender   \n",
       "2            Most orders        10  New customer          6.37    Low_spender   \n",
       "3         Average orders        10  New customer          6.37    Low_spender   \n",
       "4            Most orders        10  New customer          6.37    Low_spender   \n",
       "\n",
       "  median_days_since_last_order   order_frequency_flag  \n",
       "0                         20.5  Non-frequent customer  \n",
       "1                         20.5  Non-frequent customer  \n",
       "2                         20.5  Non-frequent customer  \n",
       "3                         20.5  Non-frequent customer  \n",
       "4                         20.5  Non-frequent customer  \n",
       "\n",
       "[5 rows x 23 columns]"
      ]
     },
     "execution_count": 23,
     "metadata": {},
     "output_type": "execute_result"
    }
   ],
   "source": [
    "df_orders_prods_merge.head()"
   ]
  },
  {
   "cell_type": "markdown",
   "id": "c32e893a",
   "metadata": {},
   "source": [
    "#### Deleting \"_merge\" flag as it is unnecesary now"
   ]
  },
  {
   "cell_type": "code",
   "execution_count": 27,
   "id": "7b1bbb49",
   "metadata": {},
   "outputs": [],
   "source": [
    "del df_orders_prods_merge['_merge']"
   ]
  },
  {
   "cell_type": "markdown",
   "id": "f0555e19",
   "metadata": {},
   "source": [
    "#### Checking dataframe shape"
   ]
  },
  {
   "cell_type": "code",
   "execution_count": 28,
   "id": "335e3080",
   "metadata": {},
   "outputs": [
    {
     "data": {
      "text/plain": [
       "(32406041, 22)"
      ]
     },
     "execution_count": 28,
     "metadata": {},
     "output_type": "execute_result"
    }
   ],
   "source": [
    "df_orders_prods_merge.shape"
   ]
  },
  {
   "cell_type": "markdown",
   "id": "cef8e517",
   "metadata": {},
   "source": [
    "#### Changing Datatype"
   ]
  },
  {
   "cell_type": "code",
   "execution_count": 24,
   "id": "d91f662f",
   "metadata": {},
   "outputs": [],
   "source": [
    "#Change the datatype of \"user_id\" column to a String\n",
    "df_orders_prods_merge['user_id'] = df_orders_prods_merge['user_id'].astype('str')"
   ]
  },
  {
   "cell_type": "markdown",
   "id": "f7bbebbc",
   "metadata": {},
   "source": [
    "#### Changing columns names"
   ]
  },
  {
   "cell_type": "code",
   "execution_count": 25,
   "id": "8d6464a1",
   "metadata": {},
   "outputs": [],
   "source": [
    "df_orders_prods_merge.rename(columns = {'businest_day' : 'busiest_day'}, inplace = True) \n",
    "df_orders_prods_merge.rename(columns = {'businest_period_of_day' : 'busiest_period_of_day'}, inplace = True)\n"
   ]
  },
  {
   "cell_type": "markdown",
   "id": "9f61258f",
   "metadata": {},
   "source": [
    "#### Checking customer data frame shape"
   ]
  },
  {
   "cell_type": "code",
   "execution_count": 30,
   "id": "6bf2f7a3",
   "metadata": {},
   "outputs": [
    {
     "data": {
      "text/plain": [
       "(206209, 10)"
      ]
     },
     "execution_count": 30,
     "metadata": {},
     "output_type": "execute_result"
    }
   ],
   "source": [
    "df_customer.shape"
   ]
  },
  {
   "cell_type": "markdown",
   "id": "651232d9",
   "metadata": {},
   "source": [
    "## Combine \"df_customers\" into \"df_orders_prods_merge\" "
   ]
  },
  {
   "cell_type": "code",
   "execution_count": 31,
   "id": "ec8bf85f",
   "metadata": {},
   "outputs": [],
   "source": [
    "df_combined_file = df_orders_prods_merge.merge(df_customer, on = 'user_id', indicator = True)"
   ]
  },
  {
   "cell_type": "markdown",
   "id": "333b0c7b",
   "metadata": {},
   "source": [
    "#### Checking df_combined information"
   ]
  },
  {
   "cell_type": "code",
   "execution_count": 33,
   "id": "59c09dc3",
   "metadata": {},
   "outputs": [
    {
     "name": "stdout",
     "output_type": "stream",
     "text": [
      "<class 'pandas.core.frame.DataFrame'>\n",
      "Int64Index: 32406041 entries, 0 to 32406040\n",
      "Data columns (total 32 columns):\n",
      " #   Column                        Dtype   \n",
      "---  ------                        -----   \n",
      " 0   order_id                      int64   \n",
      " 1   user_id                       object  \n",
      " 2   order_number                  int64   \n",
      " 3   orders_day_of_week            int64   \n",
      " 4   order_hour_of_day             int64   \n",
      " 5   days_since_last_order         float64 \n",
      " 6   product_id                    int64   \n",
      " 7   add_to_cart_order             int64   \n",
      " 8   reordered                     int64   \n",
      " 9   product_name                  object  \n",
      " 10  aisle_id                      int64   \n",
      " 11  department_id                 int64   \n",
      " 12  prices                        float64 \n",
      " 13  price_range_loc               object  \n",
      " 14  busiest_day                   object  \n",
      " 15  busiest_period_of_day         object  \n",
      " 16  max_order                     int64   \n",
      " 17  loyalty_flag                  object  \n",
      " 18  average_price                 float64 \n",
      " 19  spending_flag                 object  \n",
      " 20  median_days_since_last_order  float64 \n",
      " 21  order_frequency_flag          object  \n",
      " 22  First_Name                    object  \n",
      " 23  Last_Name                     object  \n",
      " 24  Gender                        object  \n",
      " 25  State                         object  \n",
      " 26  Age                           int64   \n",
      " 27  date_joined                   object  \n",
      " 28  n_dependants                  int64   \n",
      " 29  fam_status                    object  \n",
      " 30  income                        int64   \n",
      " 31  _merge                        category\n",
      "dtypes: category(1), float64(4), int64(13), object(14)\n",
      "memory usage: 7.8+ GB\n"
     ]
    }
   ],
   "source": [
    "df_combined_file.info()"
   ]
  },
  {
   "cell_type": "markdown",
   "id": "574ff138",
   "metadata": {},
   "source": [
    "#### Checking new dataframe shape"
   ]
  },
  {
   "cell_type": "code",
   "execution_count": 34,
   "id": "ab7b5279",
   "metadata": {},
   "outputs": [
    {
     "data": {
      "text/plain": [
       "(32406041, 32)"
      ]
     },
     "execution_count": 34,
     "metadata": {},
     "output_type": "execute_result"
    }
   ],
   "source": [
    "df_combined_file.shape"
   ]
  },
  {
   "cell_type": "code",
   "execution_count": 35,
   "id": "c2c21cdb",
   "metadata": {},
   "outputs": [
    {
     "data": {
      "text/plain": [
       "both          32406041\n",
       "left_only            0\n",
       "right_only           0\n",
       "Name: _merge, dtype: int64"
      ]
     },
     "execution_count": 35,
     "metadata": {},
     "output_type": "execute_result"
    }
   ],
   "source": [
    "df_combined_file['_merge'].value_counts()"
   ]
  },
  {
   "cell_type": "markdown",
   "id": "f0b60bb2",
   "metadata": {},
   "source": [
    "## Task 7\n",
    "\n",
    "Ensure your notebook contains logical titles, section headings, and descriptive code comments."
   ]
  },
  {
   "cell_type": "markdown",
   "id": "52eff62b",
   "metadata": {},
   "source": [
    "## Task 8\n",
    "\n",
    "Export this new dataframe as a pickle file so you can continue to use it in the second part of this task."
   ]
  },
  {
   "cell_type": "code",
   "execution_count": 36,
   "id": "cabaec8b",
   "metadata": {},
   "outputs": [],
   "source": [
    "df_combined_file.to_pickle(os.path.join(path, '02 Data', 'Prepared Data', 'combined_file.pkl'))"
   ]
  },
  {
   "cell_type": "code",
   "execution_count": null,
   "id": "fd779444",
   "metadata": {},
   "outputs": [],
   "source": []
  }
 ],
 "metadata": {
  "kernelspec": {
   "display_name": "Python 3 (ipykernel)",
   "language": "python",
   "name": "python3"
  },
  "language_info": {
   "codemirror_mode": {
    "name": "ipython",
    "version": 3
   },
   "file_extension": ".py",
   "mimetype": "text/x-python",
   "name": "python",
   "nbconvert_exporter": "python",
   "pygments_lexer": "ipython3",
   "version": "3.9.13"
  }
 },
 "nbformat": 4,
 "nbformat_minor": 5
}
